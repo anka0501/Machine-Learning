{
 "cells": [
  {
   "cell_type": "markdown",
   "metadata": {},
   "source": [
    "# Prognozowanie zmiany pracy"
   ]
  },
  {
   "cell_type": "markdown",
   "metadata": {},
   "source": [
    "Niniejsza analiza bazuje na zbiorze danych HR Analytics: Job Change of Data Scientists. Zbiór danych zawiera zmienne odnoszące się do obecnych kwalifikacji, danych demograficznych oraz doświadczenia. Baza danych powstała w oparciu o dane uczestników konkursu dla Data Scientistów. Na ich podstawie zostanie obliczone prawdopodobieństwo czy dana osoba szuka bądź będzie szukała pracy, a także określenie które zmienne wpływają na decyzje o poszukiwaniu pracy. Analiza ma posłużyć do sprawdzenia którzy kursanci zechcieliby pracować w firmie organizującej szkolenie. \n",
    "\n",
    "Zmienne:\n",
    "\n",
    "    enrollee_id : Unique ID for candidate\n",
    "\n",
    "    city: City code\n",
    "\n",
    "    city_ development _index : Developement index of the city (scaled)\n",
    "\n",
    "    gender: Gender of candidate\n",
    "\n",
    "    relevent_experience: Relevant experience of candidate\n",
    "\n",
    "    enrolled_university: Type of University course enrolled if any\n",
    "\n",
    "    education_level: Education level of candidate\n",
    "\n",
    "    major_discipline :Education major discipline of candidate\n",
    "\n",
    "    experience: Candidate total experience in years\n",
    "\n",
    "    company_size: No of employees in current employer's company\n",
    "\n",
    "    company_type : Type of current employer\n",
    "\n",
    "    lastnewjob: Difference in years between previous job and current job\n",
    "\n",
    "    training_hours: training hours completed\n",
    "\n",
    "    target: 0 – Not looking for job change, 1 – Looking for a job change\n",
    "\n",
    "    "
   ]
  },
  {
   "cell_type": "code",
   "execution_count": 1,
   "metadata": {},
   "outputs": [],
   "source": [
    "import numpy as np\n",
    "import math\n",
    "import matplotlib.pyplot as plt\n",
    "import pandas as pd\n",
    "import seaborn as sns\n",
    "import random\n",
    "from sklearn.preprocessing import LabelEncoder\n",
    "import lightgbm as lgb\n",
    "from sklearn.metrics import roc_curve, auc\n",
    "from sklearn.model_selection import RandomizedSearchCV\n",
    "from lightgbm import LGBMClassifier\n",
    "from sklearn.model_selection import train_test_split\n",
    "from scipy.stats import randint as sp_randint\n",
    "from scipy.stats import uniform as sp_uniform"
   ]
  },
  {
   "cell_type": "code",
   "execution_count": 2,
   "metadata": {},
   "outputs": [],
   "source": [
    "set=pd.read_csv('./aug.csv')"
   ]
  },
  {
   "cell_type": "code",
   "execution_count": 3,
   "metadata": {},
   "outputs": [
    {
     "data": {
      "text/html": [
       "<div>\n",
       "<style scoped>\n",
       "    .dataframe tbody tr th:only-of-type {\n",
       "        vertical-align: middle;\n",
       "    }\n",
       "\n",
       "    .dataframe tbody tr th {\n",
       "        vertical-align: top;\n",
       "    }\n",
       "\n",
       "    .dataframe thead th {\n",
       "        text-align: right;\n",
       "    }\n",
       "</style>\n",
       "<table border=\"1\" class=\"dataframe\">\n",
       "  <thead>\n",
       "    <tr style=\"text-align: right;\">\n",
       "      <th></th>\n",
       "      <th>enrollee_id</th>\n",
       "      <th>city</th>\n",
       "      <th>city_development_index</th>\n",
       "      <th>gender</th>\n",
       "      <th>relevent_experience</th>\n",
       "      <th>enrolled_university</th>\n",
       "      <th>education_level</th>\n",
       "      <th>major_discipline</th>\n",
       "      <th>experience</th>\n",
       "      <th>company_size</th>\n",
       "      <th>company_type</th>\n",
       "      <th>last_new_job</th>\n",
       "      <th>training_hours</th>\n",
       "      <th>target</th>\n",
       "    </tr>\n",
       "  </thead>\n",
       "  <tbody>\n",
       "    <tr>\n",
       "      <th>0</th>\n",
       "      <td>8949</td>\n",
       "      <td>city_103</td>\n",
       "      <td>0.920</td>\n",
       "      <td>Male</td>\n",
       "      <td>Has relevent experience</td>\n",
       "      <td>no_enrollment</td>\n",
       "      <td>Graduate</td>\n",
       "      <td>STEM</td>\n",
       "      <td>&gt;20</td>\n",
       "      <td>NaN</td>\n",
       "      <td>NaN</td>\n",
       "      <td>1</td>\n",
       "      <td>36</td>\n",
       "      <td>1.0</td>\n",
       "    </tr>\n",
       "    <tr>\n",
       "      <th>1</th>\n",
       "      <td>29725</td>\n",
       "      <td>city_40</td>\n",
       "      <td>0.776</td>\n",
       "      <td>Male</td>\n",
       "      <td>No relevent experience</td>\n",
       "      <td>no_enrollment</td>\n",
       "      <td>Graduate</td>\n",
       "      <td>STEM</td>\n",
       "      <td>15</td>\n",
       "      <td>50-99</td>\n",
       "      <td>Pvt Ltd</td>\n",
       "      <td>&gt;4</td>\n",
       "      <td>47</td>\n",
       "      <td>0.0</td>\n",
       "    </tr>\n",
       "    <tr>\n",
       "      <th>2</th>\n",
       "      <td>11561</td>\n",
       "      <td>city_21</td>\n",
       "      <td>0.624</td>\n",
       "      <td>NaN</td>\n",
       "      <td>No relevent experience</td>\n",
       "      <td>Full time course</td>\n",
       "      <td>Graduate</td>\n",
       "      <td>STEM</td>\n",
       "      <td>5</td>\n",
       "      <td>NaN</td>\n",
       "      <td>NaN</td>\n",
       "      <td>never</td>\n",
       "      <td>83</td>\n",
       "      <td>0.0</td>\n",
       "    </tr>\n",
       "    <tr>\n",
       "      <th>3</th>\n",
       "      <td>33241</td>\n",
       "      <td>city_115</td>\n",
       "      <td>0.789</td>\n",
       "      <td>NaN</td>\n",
       "      <td>No relevent experience</td>\n",
       "      <td>NaN</td>\n",
       "      <td>Graduate</td>\n",
       "      <td>Business Degree</td>\n",
       "      <td>&lt;1</td>\n",
       "      <td>NaN</td>\n",
       "      <td>Pvt Ltd</td>\n",
       "      <td>never</td>\n",
       "      <td>52</td>\n",
       "      <td>1.0</td>\n",
       "    </tr>\n",
       "    <tr>\n",
       "      <th>4</th>\n",
       "      <td>666</td>\n",
       "      <td>city_162</td>\n",
       "      <td>0.767</td>\n",
       "      <td>Male</td>\n",
       "      <td>Has relevent experience</td>\n",
       "      <td>no_enrollment</td>\n",
       "      <td>Masters</td>\n",
       "      <td>STEM</td>\n",
       "      <td>&gt;20</td>\n",
       "      <td>50-99</td>\n",
       "      <td>Funded Startup</td>\n",
       "      <td>4</td>\n",
       "      <td>8</td>\n",
       "      <td>0.0</td>\n",
       "    </tr>\n",
       "  </tbody>\n",
       "</table>\n",
       "</div>"
      ],
      "text/plain": [
       "   enrollee_id      city  city_development_index gender  \\\n",
       "0         8949  city_103                   0.920   Male   \n",
       "1        29725   city_40                   0.776   Male   \n",
       "2        11561   city_21                   0.624    NaN   \n",
       "3        33241  city_115                   0.789    NaN   \n",
       "4          666  city_162                   0.767   Male   \n",
       "\n",
       "       relevent_experience enrolled_university education_level  \\\n",
       "0  Has relevent experience       no_enrollment        Graduate   \n",
       "1   No relevent experience       no_enrollment        Graduate   \n",
       "2   No relevent experience    Full time course        Graduate   \n",
       "3   No relevent experience                 NaN        Graduate   \n",
       "4  Has relevent experience       no_enrollment         Masters   \n",
       "\n",
       "  major_discipline experience company_size    company_type last_new_job  \\\n",
       "0             STEM        >20          NaN             NaN            1   \n",
       "1             STEM         15        50-99         Pvt Ltd           >4   \n",
       "2             STEM          5          NaN             NaN        never   \n",
       "3  Business Degree         <1          NaN         Pvt Ltd        never   \n",
       "4             STEM        >20        50-99  Funded Startup            4   \n",
       "\n",
       "   training_hours  target  \n",
       "0              36     1.0  \n",
       "1              47     0.0  \n",
       "2              83     0.0  \n",
       "3              52     1.0  \n",
       "4               8     0.0  "
      ]
     },
     "execution_count": 3,
     "metadata": {},
     "output_type": "execute_result"
    }
   ],
   "source": [
    "set.head()"
   ]
  },
  {
   "cell_type": "code",
   "execution_count": 4,
   "metadata": {},
   "outputs": [
    {
     "data": {
      "text/plain": [
       "<matplotlib.axes._subplots.AxesSubplot at 0x256771509c8>"
      ]
     },
     "execution_count": 4,
     "metadata": {},
     "output_type": "execute_result"
    },
    {
     "data": {
      "image/png": "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\n",
      "text/plain": [
       "<Figure size 432x288 with 1 Axes>"
      ]
     },
     "metadata": {
      "needs_background": "light"
     },
     "output_type": "display_data"
    }
   ],
   "source": [
    "sns.countplot(x='education_level',data=set)"
   ]
  },
  {
   "cell_type": "code",
   "execution_count": 5,
   "metadata": {},
   "outputs": [
    {
     "data": {
      "text/plain": [
       "<matplotlib.axes._subplots.AxesSubplot at 0x256771fbb88>"
      ]
     },
     "execution_count": 5,
     "metadata": {},
     "output_type": "execute_result"
    },
    {
     "data": {
      "image/png": "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\n",
      "text/plain": [
       "<Figure size 432x288 with 1 Axes>"
      ]
     },
     "metadata": {
      "needs_background": "light"
     },
     "output_type": "display_data"
    }
   ],
   "source": [
    "sns.distplot(set['training_hours'],kde=False,color='blue')"
   ]
  },
  {
   "cell_type": "code",
   "execution_count": 6,
   "metadata": {},
   "outputs": [
    {
     "data": {
      "text/plain": [
       "<seaborn.axisgrid.FacetGrid at 0x2567735d608>"
      ]
     },
     "execution_count": 6,
     "metadata": {},
     "output_type": "execute_result"
    },
    {
     "data": {
      "image/png": "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\n",
      "text/plain": [
       "<Figure size 720x360 with 2 Axes>"
      ]
     },
     "metadata": {
      "needs_background": "light"
     },
     "output_type": "display_data"
    }
   ],
   "source": [
    "g = sns.FacetGrid(data=set, col='target',height=5)\n",
    "g.map(plt.hist,'city_development_index', color=\"#334488\")"
   ]
  },
  {
   "cell_type": "code",
   "execution_count": 7,
   "metadata": {},
   "outputs": [
    {
     "data": {
      "image/png": "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\n",
      "text/plain": [
       "<Figure size 2160x720 with 1 Axes>"
      ]
     },
     "metadata": {},
     "output_type": "display_data"
    }
   ],
  
  },
  {
   "cell_type": "code",
   "execution_count": 8,
   "metadata": {},
   "outputs": [
    {
     "data": {
      "text/plain": [
       "enrollee_id                  0\n",
       "city                         0\n",
       "city_development_index       0\n",
       "gender                    4508\n",
       "relevent_experience          0\n",
       "enrolled_university        386\n",
       "education_level            460\n",
       "major_discipline          2813\n",
       "experience                  65\n",
       "company_size              5938\n",
       "company_type              6140\n",
       "last_new_job               423\n",
       "training_hours               0\n",
       "target                       0\n",
       "dtype: int64"
      ]
     },
     "execution_count": 8,
     "metadata": {},
     "output_type": "execute_result"
    }
   ],
   "source": [
    "set.isnull().sum()"
   ]
  },
  {
   "cell_type": "code",
   "execution_count": 9,
   "metadata": {},
   "outputs": [
    {
     "name": "stdout",
     "output_type": "stream",
     "text": [
      "<class 'pandas.core.frame.DataFrame'>\n",
      "RangeIndex: 19158 entries, 0 to 19157\n",
      "Data columns (total 14 columns):\n",
      " #   Column                  Non-Null Count  Dtype  \n",
      "---  ------                  --------------  -----  \n",
      " 0   enrollee_id             19158 non-null  int64  \n",
      " 1   city                    19158 non-null  object \n",
      " 2   city_development_index  19158 non-null  float64\n",
      " 3   gender                  14650 non-null  object \n",
      " 4   relevent_experience     19158 non-null  object \n",
      " 5   enrolled_university     18772 non-null  object \n",
      " 6   education_level         18698 non-null  object \n",
      " 7   major_discipline        16345 non-null  object \n",
      " 8   experience              19093 non-null  object \n",
      " 9   company_size            13220 non-null  object \n",
      " 10  company_type            13018 non-null  object \n",
      " 11  last_new_job            18735 non-null  object \n",
      " 12  training_hours          19158 non-null  int64  \n",
      " 13  target                  19158 non-null  float64\n",
      "dtypes: float64(2), int64(2), object(10)\n",
      "memory usage: 2.0+ MB\n"
     ]
    }
   ],
   "source": [
    "set.info()"
   ]
  },
  {
   "cell_type": "code",
   "execution_count": 10,
   "metadata": {},
   "outputs": [
    {
     "data": {
      "text/plain": [
       "city                   object\n",
       "gender                 object\n",
       "relevent_experience    object\n",
       "enrolled_university    object\n",
       "education_level        object\n",
       "major_discipline       object\n",
       "experience             object\n",
       "company_size           object\n",
       "company_type           object\n",
       "last_new_job           object\n",
       "dtype: object"
      ]
     },
     "execution_count": 10,
     "metadata": {},
     "output_type": "execute_result"
    }
   ],
   "source": [
    "set.dtypes[set.dtypes=='object']"
   ]
  },
  {
   "cell_type": "code",
   "execution_count": 11,
   "metadata": {},
   "outputs": [
    {
     "data": {
      "text/plain": [
       "Index(['city', 'gender', 'relevent_experience', 'enrolled_university',\n",
       "       'education_level', 'major_discipline', 'experience', 'company_size',\n",
       "       'company_type', 'last_new_job'],\n",
       "      dtype='object')"
      ]
     },
     "execution_count": 11,
     "metadata": {},
     "output_type": "execute_result"
    }
   ],
   "source": [
    "set.dtypes[set.dtypes=='object'].index"
   ]
  },
  {
   "cell_type": "code",
   "execution_count": 12,
   "metadata": {},
   "outputs": [
    {
     "name": "stdout",
     "output_type": "stream",
     "text": [
      "['city', 'gender', 'relevent_experience', 'enrolled_university', 'education_level', 'major_discipline', 'experience', 'company_size', 'company_type', 'last_new_job']\n"
     ]
    }
   ],
   "source": [
    "colsy=[]\n",
    "for i in set.dtypes[set.dtypes=='object'].index:\n",
    "    colsy.append(i)\n",
    "print(colsy)"
   ]
  },
  {
   "cell_type": "code",
   "execution_count": 13,
   "metadata": {},
   "outputs": [
    {
     "name": "stdout",
     "output_type": "stream",
     "text": [
      "city :\n",
      "['city_103', 'city_21', 'city_16', 'city_114', 'city_160', 'city_136', 'city_67', 'city_75', 'city_102', 'city_104', 'city_73', 'city_100', 'city_71', 'city_11', 'city_61', 'city_90', 'city_28', 'city_23', 'city_65', 'city_36', 'city_173', 'city_83', 'city_50', 'city_116', 'city_162', 'city_46', 'city_138', 'city_19', 'city_64', 'city_45', 'city_97', 'city_74', 'city_57', 'city_149', 'city_99', 'city_159', 'city_128', 'city_41', 'city_10', 'city_165', 'city_105', 'city_98', 'city_123', 'city_101', 'city_40', 'city_89', 'city_150', 'city_145', 'city_24', 'city_115', 'city_142', 'city_152', 'city_76', 'city_158', 'city_13', 'city_27', 'city_91', 'city_70', 'city_134', 'city_143', 'city_77', 'city_78', 'city_20', 'city_144', 'city_14', 'city_126', 'city_118', 'city_141', 'city_7', 'city_93', 'city_53', 'city_1', 'city_94', 'city_26', 'city_176', 'city_84', 'city_157', 'city_30', 'city_72', 'city_9', 'city_44', 'city_69', 'city_33', 'city_80', 'city_37', 'city_155', 'city_55', 'city_175', 'city_54', 'city_42', 'city_48', 'city_12', 'city_117', 'city_43', 'city_39', 'city_127', 'city_167', 'city_59', 'city_133', 'city_131', 'city_106', 'city_109', 'city_146', 'city_79', 'city_2', 'city_81', 'city_180', 'city_107', 'city_120', 'city_139', 'city_62', 'city_179', 'city_25', 'city_166', 'city_82', 'city_31', 'city_18', 'city_8', 'city_111', 'city_121', 'city_129', 'city_171', 'city_140']\n",
      "gender :\n",
      "['Male', 'Female', 'Other']\n",
      "relevent_experience :\n",
      "['Has relevent experience', 'No relevent experience']\n",
      "enrolled_university :\n",
      "['no_enrollment', 'Full time course', 'Part time course']\n",
      "education_level :\n",
      "['Graduate', 'Masters', 'High School', 'Phd', 'Primary School']\n",
      "major_discipline :\n",
      "['STEM', 'Humanities', 'Other', 'Business Degree', 'Arts', 'No Major']\n",
      "experience :\n",
      "['>20', '5', '4', '3', '6', '2', '7', '10', '9', '8', '15', '11', '14', '1', '<1', '16', '12', '13', '17', '19', '18', '20']\n",
      "company_size :\n",
      "['50-99', '100-500', '10000+', '10/49', '1000-4999', '<10', '500-999', '5000-9999']\n",
      "company_type :\n",
      "['Pvt Ltd', 'Funded Startup', 'Public Sector', 'Early Stage Startup', 'NGO', 'Other']\n",
      "last_new_job :\n",
      "['1', '>4', '2', 'never', '4', '3']\n"
     ]
    }
   ],
   "source": [
    "set_colsy=[]\n",
    "for j in colsy:\n",
    "    print(j, \":\")\n",
    "    set_colsy.append(list(set[j].value_counts().index))\n",
    "    print(list(set[j].value_counts().index))"
   ]
  },
  {
   "cell_type": "code",
   "execution_count": 14,
   "metadata": {},
   "outputs": [
    {
     "data": {
      "text/plain": [
       "['city',\n",
       " 'enrolled_university',\n",
       " 'education_level',\n",
       " 'major_discipline',\n",
       " 'experience',\n",
       " 'company_size',\n",
       " 'company_type',\n",
       " 'last_new_job']"
      ]
     },
     "execution_count": 14,
     "metadata": {},
     "output_type": "execute_result"
    }
   ],
   "source": [
    "colsy1=[ i for i in colsy if i !='gender' and i!='relevent_experience']\n",
    "colsy1"
   ]
  },
  {
   "cell_type": "code",
   "execution_count": 15,
   "metadata": {
    "scrolled": true
   },
   "outputs": [],
   "source": [
    "set_enc=set\n",
    "for i, columns in enumerate(colsy):\n",
    "    set_enc[columns]=set_enc[columns].fillna(random.choice(set_colsy[i]))"
   ]
  },
  {
   "cell_type": "code",
   "execution_count": 16,
   "metadata": {},
   "outputs": [
    {
     "data": {
      "text/plain": [
       "enrollee_id               0\n",
       "city                      0\n",
       "city_development_index    0\n",
       "gender                    0\n",
       "relevent_experience       0\n",
       "enrolled_university       0\n",
       "education_level           0\n",
       "major_discipline          0\n",
       "experience                0\n",
       "company_size              0\n",
       "company_type              0\n",
       "last_new_job              0\n",
       "training_hours            0\n",
       "target                    0\n",
       "dtype: int64"
      ]
     },
     "execution_count": 16,
     "metadata": {},
     "output_type": "execute_result"
    }
   ],
   "source": [
    "set_enc.isnull().sum()"
   ]
  },
  {
   "cell_type": "code",
   "execution_count": 17,
   "metadata": {},
   "outputs": [],
   "source": [
    "encoder=LabelEncoder()\n",
    "\n",
    "set_enc=set\n",
    "set_enc = pd.DataFrame(set, columns=set.columns)\n",
    "\n",
    "for columns in set.columns:\n",
    "    if columns in colsy:\n",
    "        set_enc[columns + \"_enc\"]=encoder.fit_transform(set_enc[columns].astype(str))"
   ]
  },
  {
   "cell_type": "code",
   "execution_count": 18,
   "metadata": {},
   "outputs": [],
   "source": [
    "features =[\"city_enc\",\"city_development_index\",\"gender_enc\",\"relevent_experience_enc\",\"enrolled_university_enc\",\n",
    "           \"education_level_enc\",\"major_discipline_enc\",\"experience_enc\",\"company_size_enc\",\"company_type_enc\",\n",
    "           \"last_new_job_enc\",\"training_hours\"]\n",
    "target = 'target'"
   ]
  },
  {
   "cell_type": "code",
   "execution_count": 19,
   "metadata": {},
   "outputs": [],
   "source": [
    "X=pd.DataFrame(set_enc[features])\n",
    "Y = set_enc['target']\n",
    "X_train, X_test, Y_train, Y_test = train_test_split(X, Y, random_state=14501)"
   ]
  },
  {
   "cell_type": "code",
   "execution_count": 20,
   "metadata": {},
   "outputs": [],
   "source": [
    "param_test ={'num_leaves': sp_randint(6, 50), \n",
    "             'boosting_type' : ['gbdt', 'goss', 'dart'],\n",
    "             'min_child_samples': sp_randint(100, 600), \n",
    "             'min_child_weight': [1e-5, 1e-3, 1e-2, 1e-1, 1, 1e1, 1e2, 1e3, 1e4],\n",
    "             'subsample': sp_uniform(loc=0.2, scale=0.8), \n",
    "             'colsample_bytree': sp_uniform(loc=0.4, scale=0.6),\n",
    "             'reg_alpha': [0, 1e-1, 1, 2, 5, 7, 10, 50, 100],\n",
    "             'reg_lambda': [0, 1e-1, 1, 5, 10, 20, 50, 100]}\n",
    "\n",
    "fit_params={\"early_stopping_rounds\":40, \n",
    "            \"eval_metric\" : 'auc', \n",
    "            \"eval_set\" : [(X_test,Y_test)],\n",
    "            'eval_names': ['valid'],\n",
    "            'verbose': 100,\n",
    "            'categorical_feature': 'auto'}"
   ]
  },
  {
   "cell_type": "code",
   "execution_count": 21,
   "metadata": {},
   "outputs": [],
   "source": [
    "clf = lgb.LGBMClassifier(max_depth=-1, random_state=3194, silent=True, metric='None', n_jobs=4, n_estimators=100)\n",
    "gs = RandomizedSearchCV(\n",
    "    estimator=clf, param_distributions=param_test, \n",
    "    n_iter=150,\n",
    "    scoring='roc_auc',\n",
    "    cv=3,\n",
    "    refit=True,\n",
    "    random_state=3194,\n",
    "    verbose=True)"
   ]
  },
  {
   "cell_type": "code",
   "execution_count": 22,
   "metadata": {},
   "outputs": [
    {
     "name": "stdout",
     "output_type": "stream",
     "text": [
      "Fitting 3 folds for each of 150 candidates, totalling 450 fits\n"
     ]
    },
    {
     "name": "stderr",
     "output_type": "stream",
     "text": [
      "[Parallel(n_jobs=1)]: Using backend SequentialBackend with 1 concurrent workers.\n"
     ]
    },
    {
     "name": "stdout",
     "output_type": "stream",
     "text": [
      "Training until validation scores don't improve for 40 rounds\n",
      "Early stopping, best iteration is:\n",
      "[48]\tvalid's auc: 0.793034\n",
      "Training until validation scores don't improve for 40 rounds\n",
      "[100]\tvalid's auc: 0.792446\n",
      "Did not meet early stopping. Best iteration is:\n",
      "[97]\tvalid's auc: 0.792774\n",
      "Training until validation scores don't improve for 40 rounds\n",
      "[100]\tvalid's auc: 0.792677\n",
      "Did not meet early stopping. Best iteration is:\n",
      "[92]\tvalid's auc: 0.793253\n",
      "Training until validation scores don't improve for 40 rounds\n",
      "Early stopping, best iteration is:\n",
      "[1]\tvalid's auc: 0.5\n",
      "Training until validation scores don't improve for 40 rounds\n",
      "Early stopping, best iteration is:\n",
      "[1]\tvalid's auc: 0.5\n",
      "Training until validation scores don't improve for 40 rounds\n",
      "Early stopping, best iteration is:\n",
      "[1]\tvalid's auc: 0.5\n",
      "Training until validation scores don't improve for 40 rounds\n",
      "[100]\tvalid's auc: 0.782362\n",
      "Did not meet early stopping. Best iteration is:\n",
      "[92]\tvalid's auc: 0.782517\n",
      "Training until validation scores don't improve for 40 rounds\n",
      "[100]\tvalid's auc: 0.783605\n",
      "Did not meet early stopping. Best iteration is:\n",
      "[100]\tvalid's auc: 0.783605\n",
      "Training until validation scores don't improve for 40 rounds\n",
      "[100]\tvalid's auc: 0.784283\n",
      "Did not meet early stopping. Best iteration is:\n",
      "[100]\tvalid's auc: 0.784283\n",
      "Training until validation scores don't improve for 40 rounds\n",
      "[100]\tvalid's auc: 0.792824\n",
      "Did not meet early stopping. Best iteration is:\n",
      "[100]\tvalid's auc: 0.792824\n",
      "Training until validation scores don't improve for 40 rounds\n",
      "[100]\tvalid's auc: 0.7917\n",
      "Did not meet early stopping. Best iteration is:\n",
      "[99]\tvalid's auc: 0.791759\n",
      "Training until validation scores don't improve for 40 rounds\n",
      "[100]\tvalid's auc: 0.792483\n",
      "Did not meet early stopping. Best iteration is:\n",
      "[89]\tvalid's auc: 0.792551\n",
      "Training until validation scores don't improve for 40 rounds\n",
      "[100]\tvalid's auc: 0.798164\n",
      "Did not meet early stopping. Best iteration is:\n",
      "[98]\tvalid's auc: 0.798202\n",
      "Training until validation scores don't improve for 40 rounds\n",
      "[100]\tvalid's auc: 0.795201\n",
      "Did not meet early stopping. Best iteration is:\n",
      "[98]\tvalid's auc: 0.795254\n",
      "Training until validation scores don't improve for 40 rounds\n",
      "[100]\tvalid's auc: 0.796001\n",
      "Did not meet early stopping. Best iteration is:\n",
      "[100]\tvalid's auc: 0.796001\n",
      "Training until validation scores don't improve for 40 rounds\n",
      "[100]\tvalid's auc: 0.790764\n",
      "Did not meet early stopping. Best iteration is:\n",
      "[94]\tvalid's auc: 0.791332\n",
      "Training until validation scores don't improve for 40 rounds\n",
      "[100]\tvalid's auc: 0.788168\n",
      "Did not meet early stopping. Best iteration is:\n",
      "[86]\tvalid's auc: 0.788397\n",
      "Training until validation scores don't improve for 40 rounds\n",
      "[100]\tvalid's auc: 0.790851\n",
      "Did not meet early stopping. Best iteration is:\n",
      "[93]\tvalid's auc: 0.791036\n",
      "Training until validation scores don't improve for 40 rounds\n",
      "Early stopping, best iteration is:\n",
      "[58]\tvalid's auc: 0.800355\n",
      "Training until validation scores don't improve for 40 rounds\n",
      "Early stopping, best iteration is:\n",
      "[58]\tvalid's auc: 0.800174\n",
      "Training until validation scores don't improve for 40 rounds\n",
      "[100]\tvalid's auc: 0.79953\n",
      "Did not meet early stopping. Best iteration is:\n",
      "[94]\tvalid's auc: 0.799735\n"
     ]
    },
    {
     "name": "stderr",
     "output_type": "stream",
     "text": [
      "C:\\Users\\anka0\\anaconda3\\lib\\site-packages\\lightgbm\\callback.py:186: UserWarning: Early stopping is not available in dart mode\n",
      "  warnings.warn('Early stopping is not available in dart mode')\n"
     ]
    },
    {
     "name": "stdout",
     "output_type": "stream",
     "text": [
      "[100]\tvalid's auc: 0.774393\n"
     ]
    },
    {
     "name": "stderr",
     "output_type": "stream",
     "text": [
      "C:\\Users\\anka0\\anaconda3\\lib\\site-packages\\lightgbm\\callback.py:186: UserWarning: Early stopping is not available in dart mode\n",
      "  warnings.warn('Early stopping is not available in dart mode')\n"
     ]
    },
    {
     "name": "stdout",
     "output_type": "stream",
     "text": [
      "[100]\tvalid's auc: 0.775516\n"
     ]
    },
    {
     "name": "stderr",
     "output_type": "stream",
     "text": [
      "C:\\Users\\anka0\\anaconda3\\lib\\site-packages\\lightgbm\\callback.py:186: UserWarning: Early stopping is not available in dart mode\n",
      "  warnings.warn('Early stopping is not available in dart mode')\n"
     ]
    },
    {
     "name": "stdout",
     "output_type": "stream",
     "text": [
      "[100]\tvalid's auc: 0.777794\n"
     ]
    },
    {
     "name": "stderr",
     "output_type": "stream",
     "text": [
      "C:\\Users\\anka0\\anaconda3\\lib\\site-packages\\lightgbm\\callback.py:186: UserWarning: Early stopping is not available in dart mode\n",
      "  warnings.warn('Early stopping is not available in dart mode')\n"
     ]
    },
    {
     "name": "stdout",
     "output_type": "stream",
     "text": [
      "[100]\tvalid's auc: 0.800663\n"
     ]
    },
    {
     "name": "stderr",
     "output_type": "stream",
     "text": [
      "C:\\Users\\anka0\\anaconda3\\lib\\site-packages\\lightgbm\\callback.py:186: UserWarning: Early stopping is not available in dart mode\n",
      "  warnings.warn('Early stopping is not available in dart mode')\n"
     ]
    },
    {
     "name": "stdout",
     "output_type": "stream",
     "text": [
      "[100]\tvalid's auc: 0.799568\n"
     ]
    },
    {
     "name": "stderr",
     "output_type": "stream",
     "text": [
      "C:\\Users\\anka0\\anaconda3\\lib\\site-packages\\lightgbm\\callback.py:186: UserWarning: Early stopping is not available in dart mode\n",
      "  warnings.warn('Early stopping is not available in dart mode')\n"
     ]
    },
    {
     "name": "stdout",
     "output_type": "stream",
     "text": [
      "[100]\tvalid's auc: 0.799247\n",
      "Training until validation scores don't improve for 40 rounds\n",
      "[100]\tvalid's auc: 0.787227\n",
      "Did not meet early stopping. Best iteration is:\n",
      "[99]\tvalid's auc: 0.787314\n",
      "Training until validation scores don't improve for 40 rounds\n",
      "[100]\tvalid's auc: 0.786842\n",
      "Did not meet early stopping. Best iteration is:\n",
      "[100]\tvalid's auc: 0.786842\n",
      "Training until validation scores don't improve for 40 rounds\n",
      "[100]\tvalid's auc: 0.787575\n",
      "Did not meet early stopping. Best iteration is:\n",
      "[96]\tvalid's auc: 0.787629\n"
     ]
    },
    {
     "name": "stderr",
     "output_type": "stream",
     "text": [
      "C:\\Users\\anka0\\anaconda3\\lib\\site-packages\\lightgbm\\callback.py:186: UserWarning: Early stopping is not available in dart mode\n",
      "  warnings.warn('Early stopping is not available in dart mode')\n"
     ]
    },
    {
     "name": "stdout",
     "output_type": "stream",
     "text": [
      "[100]\tvalid's auc: 0.796515\n"
     ]
    },
    {
     "name": "stderr",
     "output_type": "stream",
     "text": [
      "C:\\Users\\anka0\\anaconda3\\lib\\site-packages\\lightgbm\\callback.py:186: UserWarning: Early stopping is not available in dart mode\n",
      "  warnings.warn('Early stopping is not available in dart mode')\n"
     ]
    },
    {
     "name": "stdout",
     "output_type": "stream",
     "text": [
      "[100]\tvalid's auc: 0.7958\n"
     ]
    },
    {
     "name": "stderr",
     "output_type": "stream",
     "text": [
      "C:\\Users\\anka0\\anaconda3\\lib\\site-packages\\lightgbm\\callback.py:186: UserWarning: Early stopping is not available in dart mode\n",
      "  warnings.warn('Early stopping is not available in dart mode')\n"
     ]
    },
    {
     "name": "stdout",
     "output_type": "stream",
     "text": [
      "[100]\tvalid's auc: 0.795521\n",
      "Training until validation scores don't improve for 40 rounds\n",
      "[100]\tvalid's auc: 0.791475\n",
      "Did not meet early stopping. Best iteration is:\n",
      "[98]\tvalid's auc: 0.791611\n",
      "Training until validation scores don't improve for 40 rounds\n",
      "[100]\tvalid's auc: 0.788885\n",
      "Did not meet early stopping. Best iteration is:\n",
      "[85]\tvalid's auc: 0.789449\n",
      "Training until validation scores don't improve for 40 rounds\n",
      "[100]\tvalid's auc: 0.791132\n",
      "Did not meet early stopping. Best iteration is:\n",
      "[100]\tvalid's auc: 0.791132\n",
      "Training until validation scores don't improve for 40 rounds\n",
      "[100]\tvalid's auc: 0.789394\n",
      "Did not meet early stopping. Best iteration is:\n",
      "[97]\tvalid's auc: 0.789712\n",
      "Training until validation scores don't improve for 40 rounds\n",
      "[100]\tvalid's auc: 0.784181\n",
      "Did not meet early stopping. Best iteration is:\n",
      "[74]\tvalid's auc: 0.784886\n",
      "Training until validation scores don't improve for 40 rounds\n",
      "Early stopping, best iteration is:\n",
      "[49]\tvalid's auc: 0.787508\n"
     ]
    },
    {
     "name": "stderr",
     "output_type": "stream",
     "text": [
      "C:\\Users\\anka0\\anaconda3\\lib\\site-packages\\lightgbm\\callback.py:186: UserWarning: Early stopping is not available in dart mode\n",
      "  warnings.warn('Early stopping is not available in dart mode')\n"
     ]
    },
    {
     "name": "stdout",
     "output_type": "stream",
     "text": [
      "[100]\tvalid's auc: 0.788329\n"
     ]
    },
    {
     "name": "stderr",
     "output_type": "stream",
     "text": [
      "C:\\Users\\anka0\\anaconda3\\lib\\site-packages\\lightgbm\\callback.py:186: UserWarning: Early stopping is not available in dart mode\n",
      "  warnings.warn('Early stopping is not available in dart mode')\n"
     ]
    },
    {
     "name": "stdout",
     "output_type": "stream",
     "text": [
      "[100]\tvalid's auc: 0.787068\n"
     ]
    },
    {
     "name": "stderr",
     "output_type": "stream",
     "text": [
      "C:\\Users\\anka0\\anaconda3\\lib\\site-packages\\lightgbm\\callback.py:186: UserWarning: Early stopping is not available in dart mode\n",
      "  warnings.warn('Early stopping is not available in dart mode')\n"
     ]
    },
    {
     "name": "stdout",
     "output_type": "stream",
     "text": [
      "[100]\tvalid's auc: 0.788267\n",
      "Training until validation scores don't improve for 40 rounds\n",
      "[100]\tvalid's auc: 0.789809\n",
      "Did not meet early stopping. Best iteration is:\n",
      "[100]\tvalid's auc: 0.789809\n",
      "Training until validation scores don't improve for 40 rounds\n",
      "[100]\tvalid's auc: 0.787564\n",
      "Did not meet early stopping. Best iteration is:\n",
      "[87]\tvalid's auc: 0.787591\n",
      "Training until validation scores don't improve for 40 rounds\n",
      "[100]\tvalid's auc: 0.789154\n",
      "Did not meet early stopping. Best iteration is:\n",
      "[92]\tvalid's auc: 0.789161\n",
      "Training until validation scores don't improve for 40 rounds\n",
      "[100]\tvalid's auc: 0.785246\n",
      "Did not meet early stopping. Best iteration is:\n",
      "[99]\tvalid's auc: 0.785246\n",
      "Training until validation scores don't improve for 40 rounds\n",
      "[100]\tvalid's auc: 0.783025\n",
      "Did not meet early stopping. Best iteration is:\n",
      "[62]\tvalid's auc: 0.783025\n",
      "Training until validation scores don't improve for 40 rounds\n",
      "[100]\tvalid's auc: 0.785024\n",
      "Did not meet early stopping. Best iteration is:\n",
      "[80]\tvalid's auc: 0.785101\n",
      "Training until validation scores don't improve for 40 rounds\n",
      "[100]\tvalid's auc: 0.787458\n",
      "Did not meet early stopping. Best iteration is:\n",
      "[78]\tvalid's auc: 0.78749\n",
      "Training until validation scores don't improve for 40 rounds\n",
      "[100]\tvalid's auc: 0.785319\n",
      "Did not meet early stopping. Best iteration is:\n",
      "[84]\tvalid's auc: 0.785358\n",
      "Training until validation scores don't improve for 40 rounds\n",
      "[100]\tvalid's auc: 0.788349\n",
      "Did not meet early stopping. Best iteration is:\n",
      "[99]\tvalid's auc: 0.788357\n",
      "Training until validation scores don't improve for 40 rounds\n",
      "Early stopping, best iteration is:\n",
      "[58]\tvalid's auc: 0.800288\n",
      "Training until validation scores don't improve for 40 rounds\n",
      "[100]\tvalid's auc: 0.799022\n",
      "Did not meet early stopping. Best iteration is:\n",
      "[77]\tvalid's auc: 0.799754\n",
      "Training until validation scores don't improve for 40 rounds\n",
      "[100]\tvalid's auc: 0.798324\n",
      "Did not meet early stopping. Best iteration is:\n",
      "[96]\tvalid's auc: 0.798581\n",
      "Training until validation scores don't improve for 40 rounds\n",
      "[100]\tvalid's auc: 0.78936\n",
      "Did not meet early stopping. Best iteration is:\n",
      "[100]\tvalid's auc: 0.78936\n",
      "Training until validation scores don't improve for 40 rounds\n",
      "[100]\tvalid's auc: 0.78909\n",
      "Did not meet early stopping. Best iteration is:\n",
      "[91]\tvalid's auc: 0.789295\n",
      "Training until validation scores don't improve for 40 rounds\n",
      "[100]\tvalid's auc: 0.787805\n",
      "Did not meet early stopping. Best iteration is:\n",
      "[99]\tvalid's auc: 0.787806\n",
      "Training until validation scores don't improve for 40 rounds\n",
      "[100]\tvalid's auc: 0.784907\n",
      "Did not meet early stopping. Best iteration is:\n",
      "[95]\tvalid's auc: 0.784924\n",
      "Training until validation scores don't improve for 40 rounds\n",
      "[100]\tvalid's auc: 0.786798\n",
      "Did not meet early stopping. Best iteration is:\n",
      "[95]\tvalid's auc: 0.7868\n",
      "Training until validation scores don't improve for 40 rounds\n",
      "[100]\tvalid's auc: 0.785264\n",
      "Did not meet early stopping. Best iteration is:\n",
      "[64]\tvalid's auc: 0.785407\n",
      "Training until validation scores don't improve for 40 rounds\n",
      "Early stopping, best iteration is:\n",
      "[52]\tvalid's auc: 0.798776\n",
      "Training until validation scores don't improve for 40 rounds\n",
      "[100]\tvalid's auc: 0.794311\n",
      "Did not meet early stopping. Best iteration is:\n",
      "[61]\tvalid's auc: 0.797148\n",
      "Training until validation scores don't improve for 40 rounds\n",
      "[100]\tvalid's auc: 0.795893\n",
      "Did not meet early stopping. Best iteration is:\n",
      "[80]\tvalid's auc: 0.79704\n",
      "Training until validation scores don't improve for 40 rounds\n",
      "Early stopping, best iteration is:\n",
      "[1]\tvalid's auc: 0.5\n",
      "Training until validation scores don't improve for 40 rounds\n",
      "Early stopping, best iteration is:\n",
      "[1]\tvalid's auc: 0.5\n",
      "Training until validation scores don't improve for 40 rounds\n",
      "Early stopping, best iteration is:\n",
      "[1]\tvalid's auc: 0.5\n",
      "Training until validation scores don't improve for 40 rounds\n",
      "Early stopping, best iteration is:\n",
      "[1]\tvalid's auc: 0.5\n",
      "Training until validation scores don't improve for 40 rounds\n",
      "Early stopping, best iteration is:\n",
      "[1]\tvalid's auc: 0.5\n",
      "Training until validation scores don't improve for 40 rounds\n",
      "Early stopping, best iteration is:\n",
      "[1]\tvalid's auc: 0.5\n",
      "Training until validation scores don't improve for 40 rounds\n",
      "[100]\tvalid's auc: 0.785384\n",
      "Did not meet early stopping. Best iteration is:\n",
      "[94]\tvalid's auc: 0.785432\n",
      "Training until validation scores don't improve for 40 rounds\n",
      "[100]\tvalid's auc: 0.785485\n",
      "Did not meet early stopping. Best iteration is:\n",
      "[99]\tvalid's auc: 0.785504\n",
      "Training until validation scores don't improve for 40 rounds\n",
      "Early stopping, best iteration is:\n",
      "[18]\tvalid's auc: 0.784389\n",
      "Training until validation scores don't improve for 40 rounds\n",
      "Early stopping, best iteration is:\n",
      "[1]\tvalid's auc: 0.5\n",
      "Training until validation scores don't improve for 40 rounds\n",
      "Early stopping, best iteration is:\n",
      "[1]\tvalid's auc: 0.5\n",
      "Training until validation scores don't improve for 40 rounds\n",
      "Early stopping, best iteration is:\n",
      "[1]\tvalid's auc: 0.5\n",
      "Training until validation scores don't improve for 40 rounds\n",
      "Early stopping, best iteration is:\n",
      "[54]\tvalid's auc: 0.796738\n",
      "Training until validation scores don't improve for 40 rounds\n",
      "[100]\tvalid's auc: 0.792517\n",
      "Did not meet early stopping. Best iteration is:\n",
      "[62]\tvalid's auc: 0.795663\n",
      "Training until validation scores don't improve for 40 rounds\n",
      "Early stopping, best iteration is:\n",
      "[48]\tvalid's auc: 0.797959\n",
      "Training until validation scores don't improve for 40 rounds\n",
      "Early stopping, best iteration is:\n",
      "[1]\tvalid's auc: 0.5\n",
      "Training until validation scores don't improve for 40 rounds\n",
      "Early stopping, best iteration is:\n",
      "[1]\tvalid's auc: 0.5\n",
      "Training until validation scores don't improve for 40 rounds\n",
      "Early stopping, best iteration is:\n",
      "[1]\tvalid's auc: 0.5\n",
      "Training until validation scores don't improve for 40 rounds\n",
      "Early stopping, best iteration is:\n",
      "[1]\tvalid's auc: 0.5\n",
      "Training until validation scores don't improve for 40 rounds\n",
      "Early stopping, best iteration is:\n",
      "[1]\tvalid's auc: 0.5\n",
      "Training until validation scores don't improve for 40 rounds\n",
      "Early stopping, best iteration is:\n",
      "[1]\tvalid's auc: 0.5\n",
      "Training until validation scores don't improve for 40 rounds\n",
      "Early stopping, best iteration is:\n",
      "[43]\tvalid's auc: 0.800101\n",
      "Training until validation scores don't improve for 40 rounds\n",
      "Early stopping, best iteration is:\n",
      "[58]\tvalid's auc: 0.800877\n",
      "Training until validation scores don't improve for 40 rounds\n",
      "Early stopping, best iteration is:\n",
      "[43]\tvalid's auc: 0.797907\n",
      "Training until validation scores don't improve for 40 rounds\n",
      "[100]\tvalid's auc: 0.79136\n",
      "Did not meet early stopping. Best iteration is:\n",
      "[100]\tvalid's auc: 0.79136\n",
      "Training until validation scores don't improve for 40 rounds\n",
      "[100]\tvalid's auc: 0.789092\n",
      "Did not meet early stopping. Best iteration is:\n",
      "[100]\tvalid's auc: 0.789092\n",
      "Training until validation scores don't improve for 40 rounds\n",
      "[100]\tvalid's auc: 0.790427\n",
      "Did not meet early stopping. Best iteration is:\n",
      "[98]\tvalid's auc: 0.790768\n",
      "Training until validation scores don't improve for 40 rounds\n",
      "[100]\tvalid's auc: 0.788075\n",
      "Did not meet early stopping. Best iteration is:\n",
      "[100]\tvalid's auc: 0.788075\n",
      "Training until validation scores don't improve for 40 rounds\n",
      "[100]\tvalid's auc: 0.784758\n",
      "Did not meet early stopping. Best iteration is:\n",
      "[94]\tvalid's auc: 0.785184\n",
      "Training until validation scores don't improve for 40 rounds\n",
      "[100]\tvalid's auc: 0.787159\n",
      "Did not meet early stopping. Best iteration is:\n",
      "[100]\tvalid's auc: 0.787159\n",
      "Training until validation scores don't improve for 40 rounds\n",
      "[100]\tvalid's auc: 0.794159\n",
      "Did not meet early stopping. Best iteration is:\n",
      "[94]\tvalid's auc: 0.794267\n",
      "Training until validation scores don't improve for 40 rounds\n",
      "[100]\tvalid's auc: 0.78959\n",
      "Did not meet early stopping. Best iteration is:\n",
      "[99]\tvalid's auc: 0.789922\n",
      "Training until validation scores don't improve for 40 rounds\n",
      "[100]\tvalid's auc: 0.789155\n",
      "Did not meet early stopping. Best iteration is:\n",
      "[85]\tvalid's auc: 0.790969\n",
      "Training until validation scores don't improve for 40 rounds\n",
      "Early stopping, best iteration is:\n",
      "[1]\tvalid's auc: 0.5\n",
      "Training until validation scores don't improve for 40 rounds\n",
      "Early stopping, best iteration is:\n",
      "[1]\tvalid's auc: 0.5\n",
      "Training until validation scores don't improve for 40 rounds\n",
      "Early stopping, best iteration is:\n",
      "[1]\tvalid's auc: 0.5\n"
     ]
    },
    {
     "name": "stdout",
     "output_type": "stream",
     "text": [
      "Training until validation scores don't improve for 40 rounds\n",
      "Early stopping, best iteration is:\n",
      "[11]\tvalid's auc: 0.79644\n",
      "Training until validation scores don't improve for 40 rounds\n",
      "Early stopping, best iteration is:\n",
      "[11]\tvalid's auc: 0.793931\n",
      "Training until validation scores don't improve for 40 rounds\n",
      "[100]\tvalid's auc: 0.794377\n",
      "Did not meet early stopping. Best iteration is:\n",
      "[72]\tvalid's auc: 0.79606\n",
      "Training until validation scores don't improve for 40 rounds\n",
      "[100]\tvalid's auc: 0.798939\n",
      "Did not meet early stopping. Best iteration is:\n",
      "[89]\tvalid's auc: 0.800002\n",
      "Training until validation scores don't improve for 40 rounds\n",
      "[100]\tvalid's auc: 0.797706\n",
      "Did not meet early stopping. Best iteration is:\n",
      "[86]\tvalid's auc: 0.798471\n",
      "Training until validation scores don't improve for 40 rounds\n",
      "[100]\tvalid's auc: 0.797884\n",
      "Did not meet early stopping. Best iteration is:\n",
      "[80]\tvalid's auc: 0.798782\n",
      "Training until validation scores don't improve for 40 rounds\n",
      "[100]\tvalid's auc: 0.795173\n",
      "Did not meet early stopping. Best iteration is:\n",
      "[100]\tvalid's auc: 0.795173\n",
      "Training until validation scores don't improve for 40 rounds\n",
      "[100]\tvalid's auc: 0.793088\n",
      "Did not meet early stopping. Best iteration is:\n",
      "[100]\tvalid's auc: 0.793088\n",
      "Training until validation scores don't improve for 40 rounds\n",
      "[100]\tvalid's auc: 0.794917\n",
      "Did not meet early stopping. Best iteration is:\n",
      "[100]\tvalid's auc: 0.794917\n",
      "Training until validation scores don't improve for 40 rounds\n",
      "[100]\tvalid's auc: 0.799431\n",
      "Did not meet early stopping. Best iteration is:\n",
      "[90]\tvalid's auc: 0.799887\n",
      "Training until validation scores don't improve for 40 rounds\n",
      "[100]\tvalid's auc: 0.798663\n",
      "Did not meet early stopping. Best iteration is:\n",
      "[84]\tvalid's auc: 0.799752\n",
      "Training until validation scores don't improve for 40 rounds\n",
      "[100]\tvalid's auc: 0.797145\n",
      "Did not meet early stopping. Best iteration is:\n",
      "[78]\tvalid's auc: 0.798035\n",
      "Training until validation scores don't improve for 40 rounds\n",
      "[100]\tvalid's auc: 0.797596\n",
      "Did not meet early stopping. Best iteration is:\n",
      "[100]\tvalid's auc: 0.797596\n",
      "Training until validation scores don't improve for 40 rounds\n",
      "Early stopping, best iteration is:\n",
      "[59]\tvalid's auc: 0.797377\n",
      "Training until validation scores don't improve for 40 rounds\n",
      "[100]\tvalid's auc: 0.796793\n",
      "Did not meet early stopping. Best iteration is:\n",
      "[86]\tvalid's auc: 0.797231\n",
      "Training until validation scores don't improve for 40 rounds\n",
      "[100]\tvalid's auc: 0.797761\n",
      "Did not meet early stopping. Best iteration is:\n",
      "[99]\tvalid's auc: 0.797826\n",
      "Training until validation scores don't improve for 40 rounds\n",
      "[100]\tvalid's auc: 0.794995\n",
      "Did not meet early stopping. Best iteration is:\n",
      "[99]\tvalid's auc: 0.794996\n",
      "Training until validation scores don't improve for 40 rounds\n",
      "[100]\tvalid's auc: 0.795353\n",
      "Did not meet early stopping. Best iteration is:\n",
      "[91]\tvalid's auc: 0.795803\n",
      "Training until validation scores don't improve for 40 rounds\n",
      "Early stopping, best iteration is:\n",
      "[34]\tvalid's auc: 0.79268\n",
      "Training until validation scores don't improve for 40 rounds\n",
      "Early stopping, best iteration is:\n",
      "[10]\tvalid's auc: 0.79041\n",
      "Training until validation scores don't improve for 40 rounds\n",
      "[100]\tvalid's auc: 0.791781\n",
      "Did not meet early stopping. Best iteration is:\n",
      "[87]\tvalid's auc: 0.792551\n",
      "Training until validation scores don't improve for 40 rounds\n",
      "Early stopping, best iteration is:\n",
      "[1]\tvalid's auc: 0.5\n",
      "Training until validation scores don't improve for 40 rounds\n",
      "Early stopping, best iteration is:\n",
      "[1]\tvalid's auc: 0.5\n",
      "Training until validation scores don't improve for 40 rounds\n",
      "Early stopping, best iteration is:\n",
      "[1]\tvalid's auc: 0.5\n",
      "Training until validation scores don't improve for 40 rounds\n",
      "[100]\tvalid's auc: 0.797972\n",
      "Did not meet early stopping. Best iteration is:\n",
      "[91]\tvalid's auc: 0.7981\n",
      "Training until validation scores don't improve for 40 rounds\n",
      "[100]\tvalid's auc: 0.796406\n",
      "Did not meet early stopping. Best iteration is:\n",
      "[76]\tvalid's auc: 0.796471\n",
      "Training until validation scores don't improve for 40 rounds\n",
      "[100]\tvalid's auc: 0.796888\n",
      "Did not meet early stopping. Best iteration is:\n",
      "[94]\tvalid's auc: 0.797035\n",
      "Training until validation scores don't improve for 40 rounds\n",
      "Early stopping, best iteration is:\n",
      "[1]\tvalid's auc: 0.5\n",
      "Training until validation scores don't improve for 40 rounds\n",
      "Early stopping, best iteration is:\n",
      "[1]\tvalid's auc: 0.5\n",
      "Training until validation scores don't improve for 40 rounds\n",
      "Early stopping, best iteration is:\n",
      "[1]\tvalid's auc: 0.5\n",
      "Training until validation scores don't improve for 40 rounds\n",
      "[100]\tvalid's auc: 0.797731\n",
      "Did not meet early stopping. Best iteration is:\n",
      "[100]\tvalid's auc: 0.797731\n",
      "Training until validation scores don't improve for 40 rounds\n",
      "[100]\tvalid's auc: 0.796418\n",
      "Did not meet early stopping. Best iteration is:\n",
      "[100]\tvalid's auc: 0.796418\n",
      "Training until validation scores don't improve for 40 rounds\n",
      "[100]\tvalid's auc: 0.796648\n",
      "Did not meet early stopping. Best iteration is:\n",
      "[89]\tvalid's auc: 0.796655\n",
      "Training until validation scores don't improve for 40 rounds\n",
      "Early stopping, best iteration is:\n",
      "[51]\tvalid's auc: 0.800169\n",
      "Training until validation scores don't improve for 40 rounds\n",
      "Early stopping, best iteration is:\n",
      "[43]\tvalid's auc: 0.798946\n",
      "Training until validation scores don't improve for 40 rounds\n",
      "Early stopping, best iteration is:\n",
      "[49]\tvalid's auc: 0.799032\n",
      "Training until validation scores don't improve for 40 rounds\n",
      "[100]\tvalid's auc: 0.796987\n",
      "Did not meet early stopping. Best iteration is:\n",
      "[78]\tvalid's auc: 0.797054\n",
      "Training until validation scores don't improve for 40 rounds\n",
      "[100]\tvalid's auc: 0.794851\n",
      "Did not meet early stopping. Best iteration is:\n",
      "[91]\tvalid's auc: 0.795662\n",
      "Training until validation scores don't improve for 40 rounds\n",
      "[100]\tvalid's auc: 0.79575\n",
      "Did not meet early stopping. Best iteration is:\n",
      "[74]\tvalid's auc: 0.796689\n",
      "Training until validation scores don't improve for 40 rounds\n",
      "[100]\tvalid's auc: 0.799951\n",
      "Did not meet early stopping. Best iteration is:\n",
      "[78]\tvalid's auc: 0.800346\n",
      "Training until validation scores don't improve for 40 rounds\n",
      "[100]\tvalid's auc: 0.798602\n",
      "Did not meet early stopping. Best iteration is:\n",
      "[92]\tvalid's auc: 0.798683\n",
      "Training until validation scores don't improve for 40 rounds\n",
      "[100]\tvalid's auc: 0.798601\n",
      "Did not meet early stopping. Best iteration is:\n",
      "[100]\tvalid's auc: 0.798601\n",
      "Training until validation scores don't improve for 40 rounds\n",
      "[100]\tvalid's auc: 0.791034\n",
      "Did not meet early stopping. Best iteration is:\n",
      "[100]\tvalid's auc: 0.791034\n",
      "Training until validation scores don't improve for 40 rounds\n",
      "[100]\tvalid's auc: 0.788627\n",
      "Did not meet early stopping. Best iteration is:\n",
      "[80]\tvalid's auc: 0.789268\n",
      "Training until validation scores don't improve for 40 rounds\n",
      "[100]\tvalid's auc: 0.792465\n",
      "Did not meet early stopping. Best iteration is:\n",
      "[100]\tvalid's auc: 0.792465\n",
      "Training until validation scores don't improve for 40 rounds\n",
      "Early stopping, best iteration is:\n",
      "[1]\tvalid's auc: 0.5\n",
      "Training until validation scores don't improve for 40 rounds\n",
      "Early stopping, best iteration is:\n",
      "[1]\tvalid's auc: 0.5\n",
      "Training until validation scores don't improve for 40 rounds\n",
      "Early stopping, best iteration is:\n",
      "[1]\tvalid's auc: 0.5\n",
      "Training until validation scores don't improve for 40 rounds\n",
      "[100]\tvalid's auc: 0.791786\n",
      "Did not meet early stopping. Best iteration is:\n",
      "[100]\tvalid's auc: 0.791786\n",
      "Training until validation scores don't improve for 40 rounds\n",
      "[100]\tvalid's auc: 0.788964\n",
      "Did not meet early stopping. Best iteration is:\n",
      "[94]\tvalid's auc: 0.789086\n",
      "Training until validation scores don't improve for 40 rounds\n",
      "[100]\tvalid's auc: 0.789683\n",
      "Did not meet early stopping. Best iteration is:\n",
      "[94]\tvalid's auc: 0.789823\n",
      "Training until validation scores don't improve for 40 rounds\n",
      "Early stopping, best iteration is:\n",
      "[52]\tvalid's auc: 0.797416\n",
      "Training until validation scores don't improve for 40 rounds\n",
      "Early stopping, best iteration is:\n",
      "[52]\tvalid's auc: 0.796495\n",
      "Training until validation scores don't improve for 40 rounds\n",
      "Early stopping, best iteration is:\n",
      "[51]\tvalid's auc: 0.799096\n",
      "Training until validation scores don't improve for 40 rounds\n",
      "Early stopping, best iteration is:\n",
      "[1]\tvalid's auc: 0.5\n",
      "Training until validation scores don't improve for 40 rounds\n",
      "Early stopping, best iteration is:\n",
      "[1]\tvalid's auc: 0.5\n",
      "Training until validation scores don't improve for 40 rounds\n",
      "Early stopping, best iteration is:\n",
      "[1]\tvalid's auc: 0.5\n"
     ]
    },
    {
     "name": "stderr",
     "output_type": "stream",
     "text": [
      "C:\\Users\\anka0\\anaconda3\\lib\\site-packages\\lightgbm\\callback.py:186: UserWarning: Early stopping is not available in dart mode\n",
      "  warnings.warn('Early stopping is not available in dart mode')\n"
     ]
    },
    {
     "name": "stdout",
     "output_type": "stream",
     "text": [
      "[100]\tvalid's auc: 0.783809\n"
     ]
    },
    {
     "name": "stderr",
     "output_type": "stream",
     "text": [
      "C:\\Users\\anka0\\anaconda3\\lib\\site-packages\\lightgbm\\callback.py:186: UserWarning: Early stopping is not available in dart mode\n",
      "  warnings.warn('Early stopping is not available in dart mode')\n"
     ]
    },
    {
     "name": "stdout",
     "output_type": "stream",
     "text": [
      "[100]\tvalid's auc: 0.781272\n"
     ]
    },
    {
     "name": "stderr",
     "output_type": "stream",
     "text": [
      "C:\\Users\\anka0\\anaconda3\\lib\\site-packages\\lightgbm\\callback.py:186: UserWarning: Early stopping is not available in dart mode\n",
      "  warnings.warn('Early stopping is not available in dart mode')\n"
     ]
    },
    {
     "name": "stdout",
     "output_type": "stream",
     "text": [
      "[100]\tvalid's auc: 0.783844\n"
     ]
    },
    {
     "name": "stderr",
     "output_type": "stream",
     "text": [
      "C:\\Users\\anka0\\anaconda3\\lib\\site-packages\\lightgbm\\callback.py:186: UserWarning: Early stopping is not available in dart mode\n",
      "  warnings.warn('Early stopping is not available in dart mode')\n"
     ]
    },
    {
     "name": "stdout",
     "output_type": "stream",
     "text": [
      "[100]\tvalid's auc: 0.795726\n"
     ]
    },
    {
     "name": "stderr",
     "output_type": "stream",
     "text": [
      "C:\\Users\\anka0\\anaconda3\\lib\\site-packages\\lightgbm\\callback.py:186: UserWarning: Early stopping is not available in dart mode\n",
      "  warnings.warn('Early stopping is not available in dart mode')\n"
     ]
    },
    {
     "name": "stdout",
     "output_type": "stream",
     "text": [
      "[100]\tvalid's auc: 0.793542\n"
     ]
    },
    {
     "name": "stderr",
     "output_type": "stream",
     "text": [
      "C:\\Users\\anka0\\anaconda3\\lib\\site-packages\\lightgbm\\callback.py:186: UserWarning: Early stopping is not available in dart mode\n",
      "  warnings.warn('Early stopping is not available in dart mode')\n"
     ]
    },
    {
     "name": "stdout",
     "output_type": "stream",
     "text": [
      "[100]\tvalid's auc: 0.793123\n",
      "Training until validation scores don't improve for 40 rounds\n",
      "Early stopping, best iteration is:\n",
      "[1]\tvalid's auc: 0.5\n",
      "Training until validation scores don't improve for 40 rounds\n",
      "Early stopping, best iteration is:\n",
      "[1]\tvalid's auc: 0.5\n",
      "Training until validation scores don't improve for 40 rounds\n",
      "Early stopping, best iteration is:\n",
      "[1]\tvalid's auc: 0.5\n",
      "Training until validation scores don't improve for 40 rounds\n",
      "[100]\tvalid's auc: 0.796026\n",
      "Did not meet early stopping. Best iteration is:\n",
      "[99]\tvalid's auc: 0.796052\n",
      "Training until validation scores don't improve for 40 rounds\n",
      "[100]\tvalid's auc: 0.792613\n",
      "Did not meet early stopping. Best iteration is:\n",
      "[87]\tvalid's auc: 0.792928\n",
      "Training until validation scores don't improve for 40 rounds\n",
      "[100]\tvalid's auc: 0.794654\n",
      "Did not meet early stopping. Best iteration is:\n",
      "[90]\tvalid's auc: 0.794768\n"
     ]
    },
    {
     "name": "stderr",
     "output_type": "stream",
     "text": [
      "C:\\Users\\anka0\\anaconda3\\lib\\site-packages\\lightgbm\\callback.py:186: UserWarning: Early stopping is not available in dart mode\n",
      "  warnings.warn('Early stopping is not available in dart mode')\n"
     ]
    },
    {
     "name": "stdout",
     "output_type": "stream",
     "text": [
      "[100]\tvalid's auc: 0.795997\n"
     ]
    },
    {
     "name": "stderr",
     "output_type": "stream",
     "text": [
      "C:\\Users\\anka0\\anaconda3\\lib\\site-packages\\lightgbm\\callback.py:186: UserWarning: Early stopping is not available in dart mode\n",
      "  warnings.warn('Early stopping is not available in dart mode')\n"
     ]
    },
    {
     "name": "stdout",
     "output_type": "stream",
     "text": [
      "[100]\tvalid's auc: 0.792801\n"
     ]
    },
    {
     "name": "stderr",
     "output_type": "stream",
     "text": [
      "C:\\Users\\anka0\\anaconda3\\lib\\site-packages\\lightgbm\\callback.py:186: UserWarning: Early stopping is not available in dart mode\n",
      "  warnings.warn('Early stopping is not available in dart mode')\n"
     ]
    },
    {
     "name": "stdout",
     "output_type": "stream",
     "text": [
      "[100]\tvalid's auc: 0.793129\n",
      "[100]\tvalid's auc: 0.5\n"
     ]
    },
    {
     "name": "stderr",
     "output_type": "stream",
     "text": [
      "C:\\Users\\anka0\\anaconda3\\lib\\site-packages\\lightgbm\\callback.py:186: UserWarning: Early stopping is not available in dart mode\n",
      "  warnings.warn('Early stopping is not available in dart mode')\n",
      "C:\\Users\\anka0\\anaconda3\\lib\\site-packages\\lightgbm\\callback.py:186: UserWarning: Early stopping is not available in dart mode\n",
      "  warnings.warn('Early stopping is not available in dart mode')\n"
     ]
    },
    {
     "name": "stdout",
     "output_type": "stream",
     "text": [
      "[100]\tvalid's auc: 0.5\n",
      "[100]\tvalid's auc: 0.5\n"
     ]
    },
    {
     "name": "stderr",
     "output_type": "stream",
     "text": [
      "C:\\Users\\anka0\\anaconda3\\lib\\site-packages\\lightgbm\\callback.py:186: UserWarning: Early stopping is not available in dart mode\n",
      "  warnings.warn('Early stopping is not available in dart mode')\n"
     ]
    },
    {
     "name": "stdout",
     "output_type": "stream",
     "text": [
      "Training until validation scores don't improve for 40 rounds\n",
      "[100]\tvalid's auc: 0.785092\n",
      "Did not meet early stopping. Best iteration is:\n",
      "[66]\tvalid's auc: 0.785097\n",
      "Training until validation scores don't improve for 40 rounds\n",
      "Early stopping, best iteration is:\n",
      "[53]\tvalid's auc: 0.783492\n",
      "Training until validation scores don't improve for 40 rounds\n",
      "[100]\tvalid's auc: 0.784166\n",
      "Did not meet early stopping. Best iteration is:\n",
      "[84]\tvalid's auc: 0.784166\n"
     ]
    },
    {
     "name": "stderr",
     "output_type": "stream",
     "text": [
      "C:\\Users\\anka0\\anaconda3\\lib\\site-packages\\lightgbm\\callback.py:186: UserWarning: Early stopping is not available in dart mode\n",
      "  warnings.warn('Early stopping is not available in dart mode')\n"
     ]
    },
    {
     "name": "stdout",
     "output_type": "stream",
     "text": [
      "[100]\tvalid's auc: 0.794617\n"
     ]
    },
    {
     "name": "stderr",
     "output_type": "stream",
     "text": [
      "C:\\Users\\anka0\\anaconda3\\lib\\site-packages\\lightgbm\\callback.py:186: UserWarning: Early stopping is not available in dart mode\n",
      "  warnings.warn('Early stopping is not available in dart mode')\n"
     ]
    },
    {
     "name": "stdout",
     "output_type": "stream",
     "text": [
      "[100]\tvalid's auc: 0.792036\n"
     ]
    },
    {
     "name": "stderr",
     "output_type": "stream",
     "text": [
      "C:\\Users\\anka0\\anaconda3\\lib\\site-packages\\lightgbm\\callback.py:186: UserWarning: Early stopping is not available in dart mode\n",
      "  warnings.warn('Early stopping is not available in dart mode')\n"
     ]
    },
    {
     "name": "stdout",
     "output_type": "stream",
     "text": [
      "[100]\tvalid's auc: 0.7928\n"
     ]
    },
    {
     "name": "stderr",
     "output_type": "stream",
     "text": [
      "C:\\Users\\anka0\\anaconda3\\lib\\site-packages\\lightgbm\\callback.py:186: UserWarning: Early stopping is not available in dart mode\n",
      "  warnings.warn('Early stopping is not available in dart mode')\n"
     ]
    },
    {
     "name": "stdout",
     "output_type": "stream",
     "text": [
      "[100]\tvalid's auc: 0.791027\n"
     ]
    },
    {
     "name": "stderr",
     "output_type": "stream",
     "text": [
      "C:\\Users\\anka0\\anaconda3\\lib\\site-packages\\lightgbm\\callback.py:186: UserWarning: Early stopping is not available in dart mode\n",
      "  warnings.warn('Early stopping is not available in dart mode')\n"
     ]
    },
    {
     "name": "stdout",
     "output_type": "stream",
     "text": [
      "[100]\tvalid's auc: 0.788062\n"
     ]
    },
    {
     "name": "stderr",
     "output_type": "stream",
     "text": [
      "C:\\Users\\anka0\\anaconda3\\lib\\site-packages\\lightgbm\\callback.py:186: UserWarning: Early stopping is not available in dart mode\n",
      "  warnings.warn('Early stopping is not available in dart mode')\n"
     ]
    },
    {
     "name": "stdout",
     "output_type": "stream",
     "text": [
      "[100]\tvalid's auc: 0.789587\n"
     ]
    },
    {
     "name": "stderr",
     "output_type": "stream",
     "text": [
      "C:\\Users\\anka0\\anaconda3\\lib\\site-packages\\lightgbm\\callback.py:186: UserWarning: Early stopping is not available in dart mode\n",
      "  warnings.warn('Early stopping is not available in dart mode')\n"
     ]
    },
    {
     "name": "stdout",
     "output_type": "stream",
     "text": [
      "[100]\tvalid's auc: 0.795601\n"
     ]
    },
    {
     "name": "stderr",
     "output_type": "stream",
     "text": [
      "C:\\Users\\anka0\\anaconda3\\lib\\site-packages\\lightgbm\\callback.py:186: UserWarning: Early stopping is not available in dart mode\n",
      "  warnings.warn('Early stopping is not available in dart mode')\n"
     ]
    },
    {
     "name": "stdout",
     "output_type": "stream",
     "text": [
      "[100]\tvalid's auc: 0.791627\n"
     ]
    },
    {
     "name": "stderr",
     "output_type": "stream",
     "text": [
      "C:\\Users\\anka0\\anaconda3\\lib\\site-packages\\lightgbm\\callback.py:186: UserWarning: Early stopping is not available in dart mode\n",
      "  warnings.warn('Early stopping is not available in dart mode')\n"
     ]
    },
    {
     "name": "stdout",
     "output_type": "stream",
     "text": [
      "[100]\tvalid's auc: 0.792893\n",
      "Training until validation scores don't improve for 40 rounds\n",
      "[100]\tvalid's auc: 0.79423\n",
      "Did not meet early stopping. Best iteration is:\n",
      "[97]\tvalid's auc: 0.794325\n",
      "Training until validation scores don't improve for 40 rounds\n",
      "[100]\tvalid's auc: 0.791088\n",
      "Did not meet early stopping. Best iteration is:\n",
      "[95]\tvalid's auc: 0.791392\n",
      "Training until validation scores don't improve for 40 rounds\n",
      "[100]\tvalid's auc: 0.791799\n",
      "Did not meet early stopping. Best iteration is:\n",
      "[90]\tvalid's auc: 0.792192\n",
      "Training until validation scores don't improve for 40 rounds\n",
      "[100]\tvalid's auc: 0.792229\n",
      "Did not meet early stopping. Best iteration is:\n",
      "[100]\tvalid's auc: 0.792229\n",
      "Training until validation scores don't improve for 40 rounds\n",
      "[100]\tvalid's auc: 0.789068\n",
      "Did not meet early stopping. Best iteration is:\n",
      "[98]\tvalid's auc: 0.789345\n",
      "Training until validation scores don't improve for 40 rounds\n",
      "[100]\tvalid's auc: 0.788848\n",
      "Did not meet early stopping. Best iteration is:\n",
      "[99]\tvalid's auc: 0.788995\n"
     ]
    },
    {
     "name": "stderr",
     "output_type": "stream",
     "text": [
      "C:\\Users\\anka0\\anaconda3\\lib\\site-packages\\lightgbm\\callback.py:186: UserWarning: Early stopping is not available in dart mode\n",
      "  warnings.warn('Early stopping is not available in dart mode')\n"
     ]
    },
    {
     "name": "stdout",
     "output_type": "stream",
     "text": [
      "[100]\tvalid's auc: 0.7874\n"
     ]
    },
    {
     "name": "stderr",
     "output_type": "stream",
     "text": [
      "C:\\Users\\anka0\\anaconda3\\lib\\site-packages\\lightgbm\\callback.py:186: UserWarning: Early stopping is not available in dart mode\n",
      "  warnings.warn('Early stopping is not available in dart mode')\n"
     ]
    },
    {
     "name": "stdout",
     "output_type": "stream",
     "text": [
      "[100]\tvalid's auc: 0.785783\n"
     ]
    },
    {
     "name": "stderr",
     "output_type": "stream",
     "text": [
      "C:\\Users\\anka0\\anaconda3\\lib\\site-packages\\lightgbm\\callback.py:186: UserWarning: Early stopping is not available in dart mode\n",
      "  warnings.warn('Early stopping is not available in dart mode')\n"
     ]
    },
    {
     "name": "stdout",
     "output_type": "stream",
     "text": [
      "[100]\tvalid's auc: 0.787674\n",
      "Training until validation scores don't improve for 40 rounds\n",
      "[100]\tvalid's auc: 0.795552\n",
      "Did not meet early stopping. Best iteration is:\n",
      "[64]\tvalid's auc: 0.796883\n",
      "Training until validation scores don't improve for 40 rounds\n",
      "[100]\tvalid's auc: 0.796182\n",
      "Did not meet early stopping. Best iteration is:\n",
      "[67]\tvalid's auc: 0.797409\n",
      "Training until validation scores don't improve for 40 rounds\n",
      "[100]\tvalid's auc: 0.797529\n",
      "Did not meet early stopping. Best iteration is:\n",
      "[90]\tvalid's auc: 0.797685\n",
      "Training until validation scores don't improve for 40 rounds\n",
      "Early stopping, best iteration is:\n",
      "[1]\tvalid's auc: 0.5\n",
      "Training until validation scores don't improve for 40 rounds\n",
      "Early stopping, best iteration is:\n",
      "[1]\tvalid's auc: 0.5\n",
      "Training until validation scores don't improve for 40 rounds\n",
      "Early stopping, best iteration is:\n",
      "[1]\tvalid's auc: 0.5\n"
     ]
    },
    {
     "name": "stderr",
     "output_type": "stream",
     "text": [
      "C:\\Users\\anka0\\anaconda3\\lib\\site-packages\\lightgbm\\callback.py:186: UserWarning: Early stopping is not available in dart mode\n",
      "  warnings.warn('Early stopping is not available in dart mode')\n"
     ]
    },
    {
     "name": "stdout",
     "output_type": "stream",
     "text": [
      "[100]\tvalid's auc: 0.789032\n"
     ]
    },
    {
     "name": "stderr",
     "output_type": "stream",
     "text": [
      "C:\\Users\\anka0\\anaconda3\\lib\\site-packages\\lightgbm\\callback.py:186: UserWarning: Early stopping is not available in dart mode\n",
      "  warnings.warn('Early stopping is not available in dart mode')\n"
     ]
    },
    {
     "name": "stdout",
     "output_type": "stream",
     "text": [
      "[100]\tvalid's auc: 0.787177\n"
     ]
    },
    {
     "name": "stderr",
     "output_type": "stream",
     "text": [
      "C:\\Users\\anka0\\anaconda3\\lib\\site-packages\\lightgbm\\callback.py:186: UserWarning: Early stopping is not available in dart mode\n",
      "  warnings.warn('Early stopping is not available in dart mode')\n"
     ]
    },
    {
     "name": "stdout",
     "output_type": "stream",
     "text": [
      "[100]\tvalid's auc: 0.78917\n",
      "Training until validation scores don't improve for 40 rounds\n",
      "[100]\tvalid's auc: 0.800748\n",
      "Did not meet early stopping. Best iteration is:\n",
      "[91]\tvalid's auc: 0.801019\n",
      "Training until validation scores don't improve for 40 rounds\n",
      "[100]\tvalid's auc: 0.798812\n",
      "Did not meet early stopping. Best iteration is:\n",
      "[100]\tvalid's auc: 0.798812\n",
      "Training until validation scores don't improve for 40 rounds\n",
      "[100]\tvalid's auc: 0.797974\n",
      "Did not meet early stopping. Best iteration is:\n",
      "[100]\tvalid's auc: 0.797974\n"
     ]
    },
    {
     "name": "stderr",
     "output_type": "stream",
     "text": [
      "C:\\Users\\anka0\\anaconda3\\lib\\site-packages\\lightgbm\\callback.py:186: UserWarning: Early stopping is not available in dart mode\n",
      "  warnings.warn('Early stopping is not available in dart mode')\n"
     ]
    },
    {
     "name": "stdout",
     "output_type": "stream",
     "text": [
      "[100]\tvalid's auc: 0.780291\n"
     ]
    },
    {
     "name": "stderr",
     "output_type": "stream",
     "text": [
      "C:\\Users\\anka0\\anaconda3\\lib\\site-packages\\lightgbm\\callback.py:186: UserWarning: Early stopping is not available in dart mode\n",
      "  warnings.warn('Early stopping is not available in dart mode')\n"
     ]
    },
    {
     "name": "stdout",
     "output_type": "stream",
     "text": [
      "[100]\tvalid's auc: 0.780289\n"
     ]
    },
    {
     "name": "stderr",
     "output_type": "stream",
     "text": [
      "C:\\Users\\anka0\\anaconda3\\lib\\site-packages\\lightgbm\\callback.py:186: UserWarning: Early stopping is not available in dart mode\n",
      "  warnings.warn('Early stopping is not available in dart mode')\n"
     ]
    },
    {
     "name": "stdout",
     "output_type": "stream",
     "text": [
      "[100]\tvalid's auc: 0.779577\n"
     ]
    },
    {
     "name": "stderr",
     "output_type": "stream",
     "text": [
      "C:\\Users\\anka0\\anaconda3\\lib\\site-packages\\lightgbm\\callback.py:186: UserWarning: Early stopping is not available in dart mode\n",
      "  warnings.warn('Early stopping is not available in dart mode')\n"
     ]
    },
    {
     "name": "stdout",
     "output_type": "stream",
     "text": [
      "[100]\tvalid's auc: 0.789295\n"
     ]
    },
    {
     "name": "stderr",
     "output_type": "stream",
     "text": [
      "C:\\Users\\anka0\\anaconda3\\lib\\site-packages\\lightgbm\\callback.py:186: UserWarning: Early stopping is not available in dart mode\n",
      "  warnings.warn('Early stopping is not available in dart mode')\n"
     ]
    },
    {
     "name": "stdout",
     "output_type": "stream",
     "text": [
      "[100]\tvalid's auc: 0.787855\n"
     ]
    },
    {
     "name": "stderr",
     "output_type": "stream",
     "text": [
      "C:\\Users\\anka0\\anaconda3\\lib\\site-packages\\lightgbm\\callback.py:186: UserWarning: Early stopping is not available in dart mode\n",
      "  warnings.warn('Early stopping is not available in dart mode')\n"
     ]
    },
    {
     "name": "stdout",
     "output_type": "stream",
     "text": [
      "[100]\tvalid's auc: 0.788648\n",
      "Training until validation scores don't improve for 40 rounds\n",
      "Early stopping, best iteration is:\n",
      "[1]\tvalid's auc: 0.5\n",
      "Training until validation scores don't improve for 40 rounds\n",
      "Early stopping, best iteration is:\n",
      "[1]\tvalid's auc: 0.5\n",
      "Training until validation scores don't improve for 40 rounds\n",
      "Early stopping, best iteration is:\n",
      "[1]\tvalid's auc: 0.5\n"
     ]
    },
    {
     "name": "stderr",
     "output_type": "stream",
     "text": [
      "C:\\Users\\anka0\\anaconda3\\lib\\site-packages\\lightgbm\\callback.py:186: UserWarning: Early stopping is not available in dart mode\n",
      "  warnings.warn('Early stopping is not available in dart mode')\n"
     ]
    },
    {
     "name": "stdout",
     "output_type": "stream",
     "text": [
      "[100]\tvalid's auc: 0.797812\n"
     ]
    },
    {
     "name": "stderr",
     "output_type": "stream",
     "text": [
      "C:\\Users\\anka0\\anaconda3\\lib\\site-packages\\lightgbm\\callback.py:186: UserWarning: Early stopping is not available in dart mode\n",
      "  warnings.warn('Early stopping is not available in dart mode')\n"
     ]
    },
    {
     "name": "stdout",
     "output_type": "stream",
     "text": [
      "[100]\tvalid's auc: 0.799584\n"
     ]
    },
    {
     "name": "stderr",
     "output_type": "stream",
     "text": [
      "C:\\Users\\anka0\\anaconda3\\lib\\site-packages\\lightgbm\\callback.py:186: UserWarning: Early stopping is not available in dart mode\n",
      "  warnings.warn('Early stopping is not available in dart mode')\n"
     ]
    },
    {
     "name": "stdout",
     "output_type": "stream",
     "text": [
      "[100]\tvalid's auc: 0.796324\n",
      "Training until validation scores don't improve for 40 rounds\n",
      "[100]\tvalid's auc: 0.795642\n",
      "Did not meet early stopping. Best iteration is:\n",
      "[100]\tvalid's auc: 0.795642\n",
      "Training until validation scores don't improve for 40 rounds\n",
      "[100]\tvalid's auc: 0.79717\n",
      "Did not meet early stopping. Best iteration is:\n",
      "[89]\tvalid's auc: 0.797516\n",
      "Training until validation scores don't improve for 40 rounds\n",
      "[100]\tvalid's auc: 0.797974\n",
      "Did not meet early stopping. Best iteration is:\n",
      "[100]\tvalid's auc: 0.797974\n",
      "Training until validation scores don't improve for 40 rounds\n",
      "[100]\tvalid's auc: 0.791399\n",
      "Did not meet early stopping. Best iteration is:\n",
      "[100]\tvalid's auc: 0.791399\n",
      "Training until validation scores don't improve for 40 rounds\n",
      "Early stopping, best iteration is:\n",
      "[35]\tvalid's auc: 0.787235\n",
      "Training until validation scores don't improve for 40 rounds\n",
      "[100]\tvalid's auc: 0.789124\n",
      "Did not meet early stopping. Best iteration is:\n",
      "[100]\tvalid's auc: 0.789124\n"
     ]
    },
    {
     "name": "stderr",
     "output_type": "stream",
     "text": [
      "C:\\Users\\anka0\\anaconda3\\lib\\site-packages\\lightgbm\\callback.py:186: UserWarning: Early stopping is not available in dart mode\n",
      "  warnings.warn('Early stopping is not available in dart mode')\n"
     ]
    },
    {
     "name": "stdout",
     "output_type": "stream",
     "text": [
      "[100]\tvalid's auc: 0.792762\n"
     ]
    },
    {
     "name": "stderr",
     "output_type": "stream",
     "text": [
      "C:\\Users\\anka0\\anaconda3\\lib\\site-packages\\lightgbm\\callback.py:186: UserWarning: Early stopping is not available in dart mode\n",
      "  warnings.warn('Early stopping is not available in dart mode')\n"
     ]
    },
    {
     "name": "stdout",
     "output_type": "stream",
     "text": [
      "[100]\tvalid's auc: 0.791541\n"
     ]
    },
    {
     "name": "stderr",
     "output_type": "stream",
     "text": [
      "C:\\Users\\anka0\\anaconda3\\lib\\site-packages\\lightgbm\\callback.py:186: UserWarning: Early stopping is not available in dart mode\n",
      "  warnings.warn('Early stopping is not available in dart mode')\n"
     ]
    },
    {
     "name": "stdout",
     "output_type": "stream",
     "text": [
      "[100]\tvalid's auc: 0.792765\n",
      "Training until validation scores don't improve for 40 rounds\n",
      "[100]\tvalid's auc: 0.794166\n",
      "Did not meet early stopping. Best iteration is:\n",
      "[95]\tvalid's auc: 0.794367\n",
      "Training until validation scores don't improve for 40 rounds\n",
      "[100]\tvalid's auc: 0.794217\n",
      "Did not meet early stopping. Best iteration is:\n",
      "[67]\tvalid's auc: 0.794867\n",
      "Training until validation scores don't improve for 40 rounds\n",
      "Early stopping, best iteration is:\n",
      "[37]\tvalid's auc: 0.793056\n",
      "Training until validation scores don't improve for 40 rounds\n",
      "[100]\tvalid's auc: 0.79516\n",
      "Did not meet early stopping. Best iteration is:\n",
      "[100]\tvalid's auc: 0.79516\n",
      "Training until validation scores don't improve for 40 rounds\n",
      "[100]\tvalid's auc: 0.791128\n",
      "Did not meet early stopping. Best iteration is:\n",
      "[100]\tvalid's auc: 0.791128\n",
      "Training until validation scores don't improve for 40 rounds\n",
      "[100]\tvalid's auc: 0.795475\n",
      "Did not meet early stopping. Best iteration is:\n",
      "[97]\tvalid's auc: 0.795587\n",
      "Training until validation scores don't improve for 40 rounds\n",
      "[100]\tvalid's auc: 0.791901\n",
      "Did not meet early stopping. Best iteration is:\n",
      "[98]\tvalid's auc: 0.791915\n",
      "Training until validation scores don't improve for 40 rounds\n",
      "[100]\tvalid's auc: 0.788629\n",
      "Did not meet early stopping. Best iteration is:\n",
      "[80]\tvalid's auc: 0.788776\n",
      "Training until validation scores don't improve for 40 rounds\n",
      "[100]\tvalid's auc: 0.789871\n",
      "Did not meet early stopping. Best iteration is:\n",
      "[94]\tvalid's auc: 0.789878\n",
      "Training until validation scores don't improve for 40 rounds\n",
      "[100]\tvalid's auc: 0.784209\n",
      "Did not meet early stopping. Best iteration is:\n",
      "[69]\tvalid's auc: 0.784649\n",
      "Training until validation scores don't improve for 40 rounds\n",
      "[100]\tvalid's auc: 0.782838\n",
      "Did not meet early stopping. Best iteration is:\n",
      "[68]\tvalid's auc: 0.783829\n",
      "Training until validation scores don't improve for 40 rounds\n",
      "[100]\tvalid's auc: 0.784765\n",
      "Did not meet early stopping. Best iteration is:\n",
      "[91]\tvalid's auc: 0.784841\n",
      "Training until validation scores don't improve for 40 rounds\n",
      "[100]\tvalid's auc: 0.787079\n",
      "Did not meet early stopping. Best iteration is:\n",
      "[100]\tvalid's auc: 0.787079\n",
      "Training until validation scores don't improve for 40 rounds\n",
      "[100]\tvalid's auc: 0.785516\n",
      "Did not meet early stopping. Best iteration is:\n",
      "[100]\tvalid's auc: 0.785516\n",
      "Training until validation scores don't improve for 40 rounds\n",
      "[100]\tvalid's auc: 0.786927\n",
      "Did not meet early stopping. Best iteration is:\n",
      "[99]\tvalid's auc: 0.787087\n",
      "Training until validation scores don't improve for 40 rounds\n",
      "[100]\tvalid's auc: 0.796718\n",
      "Did not meet early stopping. Best iteration is:\n",
      "[74]\tvalid's auc: 0.798001\n",
      "Training until validation scores don't improve for 40 rounds\n",
      "Early stopping, best iteration is:\n",
      "[50]\tvalid's auc: 0.796577\n",
      "Training until validation scores don't improve for 40 rounds\n",
      "Early stopping, best iteration is:\n",
      "[54]\tvalid's auc: 0.795982\n",
      "Training until validation scores don't improve for 40 rounds\n",
      "[100]\tvalid's auc: 0.797832\n",
      "Did not meet early stopping. Best iteration is:\n",
      "[98]\tvalid's auc: 0.797862\n",
      "Training until validation scores don't improve for 40 rounds\n",
      "[100]\tvalid's auc: 0.794827\n",
      "Did not meet early stopping. Best iteration is:\n",
      "[100]\tvalid's auc: 0.794827\n",
      "Training until validation scores don't improve for 40 rounds\n",
      "[100]\tvalid's auc: 0.796384\n",
      "Did not meet early stopping. Best iteration is:\n",
      "[100]\tvalid's auc: 0.796384\n"
     ]
    },
    {
     "name": "stderr",
     "output_type": "stream",
     "text": [
      "C:\\Users\\anka0\\anaconda3\\lib\\site-packages\\lightgbm\\callback.py:186: UserWarning: Early stopping is not available in dart mode\n",
      "  warnings.warn('Early stopping is not available in dart mode')\n",
      "C:\\Users\\anka0\\anaconda3\\lib\\site-packages\\lightgbm\\callback.py:186: UserWarning: Early stopping is not available in dart mode\n",
      "  warnings.warn('Early stopping is not available in dart mode')\n"
     ]
    },
    {
     "name": "stdout",
     "output_type": "stream",
     "text": [
      "[100]\tvalid's auc: 0.5\n",
      "[100]\tvalid's auc: 0.5\n"
     ]
    },
    {
     "name": "stderr",
     "output_type": "stream",
     "text": [
      "C:\\Users\\anka0\\anaconda3\\lib\\site-packages\\lightgbm\\callback.py:186: UserWarning: Early stopping is not available in dart mode\n",
      "  warnings.warn('Early stopping is not available in dart mode')\n"
     ]
    },
    {
     "name": "stdout",
     "output_type": "stream",
     "text": [
      "[100]\tvalid's auc: 0.5\n",
      "Training until validation scores don't improve for 40 rounds\n",
      "Early stopping, best iteration is:\n",
      "[1]\tvalid's auc: 0.5\n",
      "Training until validation scores don't improve for 40 rounds\n",
      "Early stopping, best iteration is:\n",
      "[1]\tvalid's auc: 0.5\n",
      "Training until validation scores don't improve for 40 rounds\n",
      "Early stopping, best iteration is:\n",
      "[1]\tvalid's auc: 0.5\n",
      "Training until validation scores don't improve for 40 rounds\n",
      "[100]\tvalid's auc: 0.790368\n",
      "Did not meet early stopping. Best iteration is:\n",
      "[99]\tvalid's auc: 0.790486\n",
      "Training until validation scores don't improve for 40 rounds\n",
      "[100]\tvalid's auc: 0.790041\n",
      "Did not meet early stopping. Best iteration is:\n",
      "[89]\tvalid's auc: 0.790421\n",
      "Training until validation scores don't improve for 40 rounds\n",
      "[100]\tvalid's auc: 0.7923\n",
      "Did not meet early stopping. Best iteration is:\n",
      "[100]\tvalid's auc: 0.7923\n",
      "Training until validation scores don't improve for 40 rounds\n",
      "Early stopping, best iteration is:\n",
      "[1]\tvalid's auc: 0.5\n",
      "Training until validation scores don't improve for 40 rounds\n",
      "Early stopping, best iteration is:\n",
      "[1]\tvalid's auc: 0.5\n",
      "Training until validation scores don't improve for 40 rounds\n",
      "Early stopping, best iteration is:\n",
      "[1]\tvalid's auc: 0.5\n",
      "Training until validation scores don't improve for 40 rounds\n",
      "[100]\tvalid's auc: 0.790032\n",
      "Did not meet early stopping. Best iteration is:\n",
      "[85]\tvalid's auc: 0.79005\n",
      "Training until validation scores don't improve for 40 rounds\n",
      "[100]\tvalid's auc: 0.787249\n",
      "Did not meet early stopping. Best iteration is:\n",
      "[84]\tvalid's auc: 0.787321\n",
      "Training until validation scores don't improve for 40 rounds\n",
      "[100]\tvalid's auc: 0.78965\n",
      "Did not meet early stopping. Best iteration is:\n",
      "[81]\tvalid's auc: 0.789665\n",
      "Training until validation scores don't improve for 40 rounds\n",
      "Early stopping, best iteration is:\n",
      "[17]\tvalid's auc: 0.798943\n",
      "Training until validation scores don't improve for 40 rounds\n",
      "Early stopping, best iteration is:\n",
      "[45]\tvalid's auc: 0.800065\n",
      "Training until validation scores don't improve for 40 rounds\n",
      "[100]\tvalid's auc: 0.79903\n",
      "Did not meet early stopping. Best iteration is:\n",
      "[64]\tvalid's auc: 0.800067\n",
      "Training until validation scores don't improve for 40 rounds\n",
      "[100]\tvalid's auc: 0.785764\n",
      "Did not meet early stopping. Best iteration is:\n",
      "[70]\tvalid's auc: 0.786301\n",
      "Training until validation scores don't improve for 40 rounds\n",
      "[100]\tvalid's auc: 0.786557\n",
      "Did not meet early stopping. Best iteration is:\n",
      "[99]\tvalid's auc: 0.78658\n",
      "Training until validation scores don't improve for 40 rounds\n",
      "Early stopping, best iteration is:\n",
      "[49]\tvalid's auc: 0.786642\n",
      "Training until validation scores don't improve for 40 rounds\n",
      "[100]\tvalid's auc: 0.797118\n",
      "Did not meet early stopping. Best iteration is:\n",
      "[84]\tvalid's auc: 0.798256\n",
      "Training until validation scores don't improve for 40 rounds\n",
      "Early stopping, best iteration is:\n",
      "[57]\tvalid's auc: 0.796393\n",
      "Training until validation scores don't improve for 40 rounds\n",
      "Early stopping, best iteration is:\n",
      "[18]\tvalid's auc: 0.794141\n",
      "Training until validation scores don't improve for 40 rounds\n",
      "Early stopping, best iteration is:\n",
      "[1]\tvalid's auc: 0.5\n",
      "Training until validation scores don't improve for 40 rounds\n",
      "Early stopping, best iteration is:\n",
      "[1]\tvalid's auc: 0.5\n",
      "Training until validation scores don't improve for 40 rounds\n",
      "Early stopping, best iteration is:\n",
      "[1]\tvalid's auc: 0.5\n"
     ]
    },
    {
     "name": "stderr",
     "output_type": "stream",
     "text": [
      "C:\\Users\\anka0\\anaconda3\\lib\\site-packages\\lightgbm\\callback.py:186: UserWarning: Early stopping is not available in dart mode\n",
      "  warnings.warn('Early stopping is not available in dart mode')\n"
     ]
    },
    {
     "name": "stdout",
     "output_type": "stream",
     "text": [
      "[100]\tvalid's auc: 0.777301\n"
     ]
    },
    {
     "name": "stderr",
     "output_type": "stream",
     "text": [
      "C:\\Users\\anka0\\anaconda3\\lib\\site-packages\\lightgbm\\callback.py:186: UserWarning: Early stopping is not available in dart mode\n",
      "  warnings.warn('Early stopping is not available in dart mode')\n"
     ]
    },
    {
     "name": "stdout",
     "output_type": "stream",
     "text": [
      "[100]\tvalid's auc: 0.77818\n"
     ]
    },
    {
     "name": "stderr",
     "output_type": "stream",
     "text": [
      "C:\\Users\\anka0\\anaconda3\\lib\\site-packages\\lightgbm\\callback.py:186: UserWarning: Early stopping is not available in dart mode\n",
      "  warnings.warn('Early stopping is not available in dart mode')\n"
     ]
    },
    {
     "name": "stdout",
     "output_type": "stream",
     "text": [
      "[100]\tvalid's auc: 0.779853\n",
      "Training until validation scores don't improve for 40 rounds\n",
      "[100]\tvalid's auc: 0.795113\n",
      "Did not meet early stopping. Best iteration is:\n",
      "[100]\tvalid's auc: 0.795113\n",
      "Training until validation scores don't improve for 40 rounds\n",
      "[100]\tvalid's auc: 0.790934\n",
      "Did not meet early stopping. Best iteration is:\n",
      "[95]\tvalid's auc: 0.791055\n",
      "Training until validation scores don't improve for 40 rounds\n",
      "[100]\tvalid's auc: 0.793319\n",
      "Did not meet early stopping. Best iteration is:\n",
      "[100]\tvalid's auc: 0.793319\n",
      "Training until validation scores don't improve for 40 rounds\n",
      "[100]\tvalid's auc: 0.795474\n",
      "Did not meet early stopping. Best iteration is:\n",
      "[100]\tvalid's auc: 0.795474\n",
      "Training until validation scores don't improve for 40 rounds\n",
      "[100]\tvalid's auc: 0.791758\n",
      "Did not meet early stopping. Best iteration is:\n",
      "[100]\tvalid's auc: 0.791758\n",
      "Training until validation scores don't improve for 40 rounds\n",
      "[100]\tvalid's auc: 0.793911\n",
      "Did not meet early stopping. Best iteration is:\n",
      "[100]\tvalid's auc: 0.793911\n",
      "Training until validation scores don't improve for 40 rounds\n",
      "Early stopping, best iteration is:\n",
      "[1]\tvalid's auc: 0.5\n",
      "Training until validation scores don't improve for 40 rounds\n",
      "Early stopping, best iteration is:\n",
      "[1]\tvalid's auc: 0.5\n",
      "Training until validation scores don't improve for 40 rounds\n",
      "Early stopping, best iteration is:\n",
      "[1]\tvalid's auc: 0.5\n"
     ]
    },
    {
     "name": "stderr",
     "output_type": "stream",
     "text": [
      "C:\\Users\\anka0\\anaconda3\\lib\\site-packages\\lightgbm\\callback.py:186: UserWarning: Early stopping is not available in dart mode\n",
      "  warnings.warn('Early stopping is not available in dart mode')\n"
     ]
    },
    {
     "name": "stdout",
     "output_type": "stream",
     "text": [
      "[100]\tvalid's auc: 0.781148\n"
     ]
    },
    {
     "name": "stderr",
     "output_type": "stream",
     "text": [
      "C:\\Users\\anka0\\anaconda3\\lib\\site-packages\\lightgbm\\callback.py:186: UserWarning: Early stopping is not available in dart mode\n",
      "  warnings.warn('Early stopping is not available in dart mode')\n"
     ]
    },
    {
     "name": "stdout",
     "output_type": "stream",
     "text": [
      "[100]\tvalid's auc: 0.783009\n"
     ]
    },
    {
     "name": "stderr",
     "output_type": "stream",
     "text": [
      "C:\\Users\\anka0\\anaconda3\\lib\\site-packages\\lightgbm\\callback.py:186: UserWarning: Early stopping is not available in dart mode\n",
      "  warnings.warn('Early stopping is not available in dart mode')\n"
     ]
    },
    {
     "name": "stdout",
     "output_type": "stream",
     "text": [
      "[100]\tvalid's auc: 0.780539\n"
     ]
    },
    {
     "name": "stderr",
     "output_type": "stream",
     "text": [
      "C:\\Users\\anka0\\anaconda3\\lib\\site-packages\\lightgbm\\callback.py:186: UserWarning: Early stopping is not available in dart mode\n",
      "  warnings.warn('Early stopping is not available in dart mode')\n"
     ]
    },
    {
     "name": "stdout",
     "output_type": "stream",
     "text": [
      "[100]\tvalid's auc: 0.788597\n"
     ]
    },
    {
     "name": "stderr",
     "output_type": "stream",
     "text": [
      "C:\\Users\\anka0\\anaconda3\\lib\\site-packages\\lightgbm\\callback.py:186: UserWarning: Early stopping is not available in dart mode\n",
      "  warnings.warn('Early stopping is not available in dart mode')\n"
     ]
    },
    {
     "name": "stdout",
     "output_type": "stream",
     "text": [
      "[100]\tvalid's auc: 0.785629\n"
     ]
    },
    {
     "name": "stderr",
     "output_type": "stream",
     "text": [
      "C:\\Users\\anka0\\anaconda3\\lib\\site-packages\\lightgbm\\callback.py:186: UserWarning: Early stopping is not available in dart mode\n",
      "  warnings.warn('Early stopping is not available in dart mode')\n"
     ]
    },
    {
     "name": "stdout",
     "output_type": "stream",
     "text": [
      "[100]\tvalid's auc: 0.787697\n",
      "Training until validation scores don't improve for 40 rounds\n",
      "[100]\tvalid's auc: 0.798556\n",
      "Did not meet early stopping. Best iteration is:\n",
      "[100]\tvalid's auc: 0.798556\n",
      "Training until validation scores don't improve for 40 rounds\n",
      "[100]\tvalid's auc: 0.798592\n",
      "Did not meet early stopping. Best iteration is:\n",
      "[100]\tvalid's auc: 0.798592\n",
      "Training until validation scores don't improve for 40 rounds\n",
      "[100]\tvalid's auc: 0.79611\n",
      "Did not meet early stopping. Best iteration is:\n",
      "[96]\tvalid's auc: 0.796274\n",
      "Training until validation scores don't improve for 40 rounds\n",
      "[100]\tvalid's auc: 0.79774\n",
      "Did not meet early stopping. Best iteration is:\n",
      "[98]\tvalid's auc: 0.797923\n",
      "Training until validation scores don't improve for 40 rounds\n",
      "[100]\tvalid's auc: 0.796501\n",
      "Did not meet early stopping. Best iteration is:\n",
      "[98]\tvalid's auc: 0.796658\n",
      "Training until validation scores don't improve for 40 rounds\n",
      "[100]\tvalid's auc: 0.796252\n",
      "Did not meet early stopping. Best iteration is:\n",
      "[97]\tvalid's auc: 0.796401\n",
      "Training until validation scores don't improve for 40 rounds\n",
      "Early stopping, best iteration is:\n",
      "[58]\tvalid's auc: 0.798631\n",
      "Training until validation scores don't improve for 40 rounds\n",
      "[100]\tvalid's auc: 0.798371\n",
      "Did not meet early stopping. Best iteration is:\n",
      "[68]\tvalid's auc: 0.798942\n",
      "Training until validation scores don't improve for 40 rounds\n",
      "Early stopping, best iteration is:\n",
      "[53]\tvalid's auc: 0.799816\n",
      "Training until validation scores don't improve for 40 rounds\n",
      "[100]\tvalid's auc: 0.79709\n",
      "Did not meet early stopping. Best iteration is:\n",
      "[85]\tvalid's auc: 0.797559\n",
      "Training until validation scores don't improve for 40 rounds\n",
      "[100]\tvalid's auc: 0.794974\n",
      "Did not meet early stopping. Best iteration is:\n",
      "[100]\tvalid's auc: 0.794974\n",
      "Training until validation scores don't improve for 40 rounds\n",
      "[100]\tvalid's auc: 0.794563\n",
      "Did not meet early stopping. Best iteration is:\n",
      "[67]\tvalid's auc: 0.79547\n"
     ]
    },
    {
     "name": "stderr",
     "output_type": "stream",
     "text": [
      "C:\\Users\\anka0\\anaconda3\\lib\\site-packages\\lightgbm\\callback.py:186: UserWarning: Early stopping is not available in dart mode\n",
      "  warnings.warn('Early stopping is not available in dart mode')\n"
     ]
    },
    {
     "name": "stdout",
     "output_type": "stream",
     "text": [
      "[100]\tvalid's auc: 0.796577\n"
     ]
    },
    {
     "name": "stderr",
     "output_type": "stream",
     "text": [
      "C:\\Users\\anka0\\anaconda3\\lib\\site-packages\\lightgbm\\callback.py:186: UserWarning: Early stopping is not available in dart mode\n",
      "  warnings.warn('Early stopping is not available in dart mode')\n"
     ]
    },
    {
     "name": "stdout",
     "output_type": "stream",
     "text": [
      "[100]\tvalid's auc: 0.799829\n"
     ]
    },
    {
     "name": "stderr",
     "output_type": "stream",
     "text": [
      "C:\\Users\\anka0\\anaconda3\\lib\\site-packages\\lightgbm\\callback.py:186: UserWarning: Early stopping is not available in dart mode\n",
      "  warnings.warn('Early stopping is not available in dart mode')\n"
     ]
    },
    {
     "name": "stdout",
     "output_type": "stream",
     "text": [
      "[100]\tvalid's auc: 0.798194\n",
      "Training until validation scores don't improve for 40 rounds\n",
      "Early stopping, best iteration is:\n",
      "[1]\tvalid's auc: 0.5\n",
      "Training until validation scores don't improve for 40 rounds\n",
      "Early stopping, best iteration is:\n",
      "[1]\tvalid's auc: 0.5\n",
      "Training until validation scores don't improve for 40 rounds\n",
      "Early stopping, best iteration is:\n",
      "[1]\tvalid's auc: 0.5\n",
      "Training until validation scores don't improve for 40 rounds\n",
      "[100]\tvalid's auc: 0.79226\n",
      "Did not meet early stopping. Best iteration is:\n",
      "[78]\tvalid's auc: 0.793626\n",
      "Training until validation scores don't improve for 40 rounds\n",
      "[100]\tvalid's auc: 0.786188\n",
      "Did not meet early stopping. Best iteration is:\n",
      "[80]\tvalid's auc: 0.787275\n",
      "Training until validation scores don't improve for 40 rounds\n",
      "[100]\tvalid's auc: 0.792974\n",
      "Did not meet early stopping. Best iteration is:\n",
      "[100]\tvalid's auc: 0.792974\n",
      "Training until validation scores don't improve for 40 rounds\n",
      "Early stopping, best iteration is:\n",
      "[28]\tvalid's auc: 0.799917\n",
      "Training until validation scores don't improve for 40 rounds\n",
      "Early stopping, best iteration is:\n",
      "[39]\tvalid's auc: 0.801048\n",
      "Training until validation scores don't improve for 40 rounds\n",
      "Early stopping, best iteration is:\n",
      "[56]\tvalid's auc: 0.800308\n",
      "[100]\tvalid's auc: 0.5\n"
     ]
    },
    {
     "name": "stderr",
     "output_type": "stream",
     "text": [
      "C:\\Users\\anka0\\anaconda3\\lib\\site-packages\\lightgbm\\callback.py:186: UserWarning: Early stopping is not available in dart mode\n",
      "  warnings.warn('Early stopping is not available in dart mode')\n",
      "C:\\Users\\anka0\\anaconda3\\lib\\site-packages\\lightgbm\\callback.py:186: UserWarning: Early stopping is not available in dart mode\n",
      "  warnings.warn('Early stopping is not available in dart mode')\n"
     ]
    },
    {
     "name": "stdout",
     "output_type": "stream",
     "text": [
      "[100]\tvalid's auc: 0.5\n",
      "[100]\tvalid's auc: 0.5\n"
     ]
    },
    {
     "name": "stderr",
     "output_type": "stream",
     "text": [
      "C:\\Users\\anka0\\anaconda3\\lib\\site-packages\\lightgbm\\callback.py:186: UserWarning: Early stopping is not available in dart mode\n",
      "  warnings.warn('Early stopping is not available in dart mode')\n",
      "C:\\Users\\anka0\\anaconda3\\lib\\site-packages\\lightgbm\\callback.py:186: UserWarning: Early stopping is not available in dart mode\n",
      "  warnings.warn('Early stopping is not available in dart mode')\n"
     ]
    },
    {
     "name": "stdout",
     "output_type": "stream",
     "text": [
      "[100]\tvalid's auc: 0.794253\n"
     ]
    },
    {
     "name": "stderr",
     "output_type": "stream",
     "text": [
      "C:\\Users\\anka0\\anaconda3\\lib\\site-packages\\lightgbm\\callback.py:186: UserWarning: Early stopping is not available in dart mode\n",
      "  warnings.warn('Early stopping is not available in dart mode')\n"
     ]
    },
    {
     "name": "stdout",
     "output_type": "stream",
     "text": [
      "[100]\tvalid's auc: 0.790389\n"
     ]
    },
    {
     "name": "stderr",
     "output_type": "stream",
     "text": [
      "C:\\Users\\anka0\\anaconda3\\lib\\site-packages\\lightgbm\\callback.py:186: UserWarning: Early stopping is not available in dart mode\n",
      "  warnings.warn('Early stopping is not available in dart mode')\n"
     ]
    },
    {
     "name": "stdout",
     "output_type": "stream",
     "text": [
      "[100]\tvalid's auc: 0.794051\n",
      "Training until validation scores don't improve for 40 rounds\n",
      "[100]\tvalid's auc: 0.790556\n",
      "Did not meet early stopping. Best iteration is:\n",
      "[99]\tvalid's auc: 0.790698\n",
      "Training until validation scores don't improve for 40 rounds\n",
      "[100]\tvalid's auc: 0.788507\n",
      "Did not meet early stopping. Best iteration is:\n",
      "[88]\tvalid's auc: 0.788537\n",
      "Training until validation scores don't improve for 40 rounds\n",
      "[100]\tvalid's auc: 0.791111\n",
      "Did not meet early stopping. Best iteration is:\n",
      "[82]\tvalid's auc: 0.791533\n"
     ]
    },
    {
     "name": "stderr",
     "output_type": "stream",
     "text": [
      "C:\\Users\\anka0\\anaconda3\\lib\\site-packages\\lightgbm\\callback.py:186: UserWarning: Early stopping is not available in dart mode\n",
      "  warnings.warn('Early stopping is not available in dart mode')\n"
     ]
    },
    {
     "name": "stdout",
     "output_type": "stream",
     "text": [
      "[100]\tvalid's auc: 0.5\n",
      "[100]\tvalid's auc: 0.5"
     ]
    },
    {
     "name": "stderr",
     "output_type": "stream",
     "text": [
      "C:\\Users\\anka0\\anaconda3\\lib\\site-packages\\lightgbm\\callback.py:186: UserWarning: Early stopping is not available in dart mode\n",
      "  warnings.warn('Early stopping is not available in dart mode')\n",
      "C:\\Users\\anka0\\anaconda3\\lib\\site-packages\\lightgbm\\callback.py:186: UserWarning: Early stopping is not available in dart mode\n",
      "  warnings.warn('Early stopping is not available in dart mode')\n"
     ]
    },
    {
     "name": "stdout",
     "output_type": "stream",
     "text": [
      "\n",
      "[100]\tvalid's auc: 0.5\n"
     ]
    },
    {
     "name": "stderr",
     "output_type": "stream",
     "text": [
      "C:\\Users\\anka0\\anaconda3\\lib\\site-packages\\lightgbm\\callback.py:186: UserWarning: Early stopping is not available in dart mode\n",
      "  warnings.warn('Early stopping is not available in dart mode')\n"
     ]
    },
    {
     "name": "stdout",
     "output_type": "stream",
     "text": [
      "[100]\tvalid's auc: 0.796024\n"
     ]
    },
    {
     "name": "stderr",
     "output_type": "stream",
     "text": [
      "C:\\Users\\anka0\\anaconda3\\lib\\site-packages\\lightgbm\\callback.py:186: UserWarning: Early stopping is not available in dart mode\n",
      "  warnings.warn('Early stopping is not available in dart mode')\n"
     ]
    },
    {
     "name": "stdout",
     "output_type": "stream",
     "text": [
      "[100]\tvalid's auc: 0.795544\n"
     ]
    },
    {
     "name": "stderr",
     "output_type": "stream",
     "text": [
      "C:\\Users\\anka0\\anaconda3\\lib\\site-packages\\lightgbm\\callback.py:186: UserWarning: Early stopping is not available in dart mode\n",
      "  warnings.warn('Early stopping is not available in dart mode')\n"
     ]
    },
    {
     "name": "stdout",
     "output_type": "stream",
     "text": [
      "[100]\tvalid's auc: 0.795444\n"
     ]
    },
    {
     "name": "stderr",
     "output_type": "stream",
     "text": [
      "C:\\Users\\anka0\\anaconda3\\lib\\site-packages\\lightgbm\\callback.py:186: UserWarning: Early stopping is not available in dart mode\n",
      "  warnings.warn('Early stopping is not available in dart mode')\n"
     ]
    },
    {
     "name": "stdout",
     "output_type": "stream",
     "text": [
      "[100]\tvalid's auc: 0.793586\n"
     ]
    },
    {
     "name": "stderr",
     "output_type": "stream",
     "text": [
      "C:\\Users\\anka0\\anaconda3\\lib\\site-packages\\lightgbm\\callback.py:186: UserWarning: Early stopping is not available in dart mode\n",
      "  warnings.warn('Early stopping is not available in dart mode')\n"
     ]
    },
    {
     "name": "stdout",
     "output_type": "stream",
     "text": [
      "[100]\tvalid's auc: 0.791012\n"
     ]
    },
    {
     "name": "stderr",
     "output_type": "stream",
     "text": [
      "C:\\Users\\anka0\\anaconda3\\lib\\site-packages\\lightgbm\\callback.py:186: UserWarning: Early stopping is not available in dart mode\n",
      "  warnings.warn('Early stopping is not available in dart mode')\n"
     ]
    },
    {
     "name": "stdout",
     "output_type": "stream",
     "text": [
      "[100]\tvalid's auc: 0.793078\n",
      "Training until validation scores don't improve for 40 rounds\n",
      "[100]\tvalid's auc: 0.794623\n",
      "Did not meet early stopping. Best iteration is:\n",
      "[86]\tvalid's auc: 0.795185\n",
      "Training until validation scores don't improve for 40 rounds\n",
      "Early stopping, best iteration is:\n",
      "[46]\tvalid's auc: 0.795514\n",
      "Training until validation scores don't improve for 40 rounds\n",
      "[100]\tvalid's auc: 0.795308\n",
      "Did not meet early stopping. Best iteration is:\n",
      "[90]\tvalid's auc: 0.795793\n"
     ]
    },
    {
     "name": "stderr",
     "output_type": "stream",
     "text": [
      "C:\\Users\\anka0\\anaconda3\\lib\\site-packages\\lightgbm\\callback.py:186: UserWarning: Early stopping is not available in dart mode\n",
      "  warnings.warn('Early stopping is not available in dart mode')\n"
     ]
    },
    {
     "name": "stdout",
     "output_type": "stream",
     "text": [
      "[100]\tvalid's auc: 0.790632\n"
     ]
    },
    {
     "name": "stderr",
     "output_type": "stream",
     "text": [
      "C:\\Users\\anka0\\anaconda3\\lib\\site-packages\\lightgbm\\callback.py:186: UserWarning: Early stopping is not available in dart mode\n",
      "  warnings.warn('Early stopping is not available in dart mode')\n"
     ]
    },
    {
     "name": "stdout",
     "output_type": "stream",
     "text": [
      "[100]\tvalid's auc: 0.786699\n"
     ]
    },
    {
     "name": "stderr",
     "output_type": "stream",
     "text": [
      "C:\\Users\\anka0\\anaconda3\\lib\\site-packages\\lightgbm\\callback.py:186: UserWarning: Early stopping is not available in dart mode\n",
      "  warnings.warn('Early stopping is not available in dart mode')\n"
     ]
    },
    {
     "name": "stdout",
     "output_type": "stream",
     "text": [
      "[100]\tvalid's auc: 0.789794\n",
      "Training until validation scores don't improve for 40 rounds\n",
      "Early stopping, best iteration is:\n",
      "[56]\tvalid's auc: 0.798726\n",
      "Training until validation scores don't improve for 40 rounds\n",
      "[100]\tvalid's auc: 0.798101\n",
      "Did not meet early stopping. Best iteration is:\n",
      "[100]\tvalid's auc: 0.798101\n",
      "Training until validation scores don't improve for 40 rounds\n",
      "[100]\tvalid's auc: 0.798999\n",
      "Did not meet early stopping. Best iteration is:\n",
      "[86]\tvalid's auc: 0.79916\n"
     ]
    },
    {
     "name": "stderr",
     "output_type": "stream",
     "text": [
      "C:\\Users\\anka0\\anaconda3\\lib\\site-packages\\lightgbm\\callback.py:186: UserWarning: Early stopping is not available in dart mode\n",
      "  warnings.warn('Early stopping is not available in dart mode')\n"
     ]
    },
    {
     "name": "stdout",
     "output_type": "stream",
     "text": [
      "[100]\tvalid's auc: 0.795417\n"
     ]
    },
    {
     "name": "stderr",
     "output_type": "stream",
     "text": [
      "C:\\Users\\anka0\\anaconda3\\lib\\site-packages\\lightgbm\\callback.py:186: UserWarning: Early stopping is not available in dart mode\n",
      "  warnings.warn('Early stopping is not available in dart mode')\n"
     ]
    },
    {
     "name": "stdout",
     "output_type": "stream",
     "text": [
      "[100]\tvalid's auc: 0.792689\n"
     ]
    },
    {
     "name": "stderr",
     "output_type": "stream",
     "text": [
      "C:\\Users\\anka0\\anaconda3\\lib\\site-packages\\lightgbm\\callback.py:186: UserWarning: Early stopping is not available in dart mode\n",
      "  warnings.warn('Early stopping is not available in dart mode')\n"
     ]
    },
    {
     "name": "stdout",
     "output_type": "stream",
     "text": [
      "[100]\tvalid's auc: 0.794037\n"
     ]
    },
    {
     "name": "stderr",
     "output_type": "stream",
     "text": [
      "C:\\Users\\anka0\\anaconda3\\lib\\site-packages\\lightgbm\\callback.py:186: UserWarning: Early stopping is not available in dart mode\n",
      "  warnings.warn('Early stopping is not available in dart mode')\n"
     ]
    },
    {
     "name": "stdout",
     "output_type": "stream",
     "text": [
      "[100]\tvalid's auc: 0.783507\n"
     ]
    },
    {
     "name": "stderr",
     "output_type": "stream",
     "text": [
      "C:\\Users\\anka0\\anaconda3\\lib\\site-packages\\lightgbm\\callback.py:186: UserWarning: Early stopping is not available in dart mode\n",
      "  warnings.warn('Early stopping is not available in dart mode')\n"
     ]
    },
    {
     "name": "stdout",
     "output_type": "stream",
     "text": [
      "[100]\tvalid's auc: 0.780416\n"
     ]
    },
    {
     "name": "stderr",
     "output_type": "stream",
     "text": [
      "C:\\Users\\anka0\\anaconda3\\lib\\site-packages\\lightgbm\\callback.py:186: UserWarning: Early stopping is not available in dart mode\n",
      "  warnings.warn('Early stopping is not available in dart mode')\n"
     ]
    },
    {
     "name": "stdout",
     "output_type": "stream",
     "text": [
      "[100]\tvalid's auc: 0.783155\n",
      "Training until validation scores don't improve for 40 rounds\n",
      "[100]\tvalid's auc: 0.791203\n",
      "Did not meet early stopping. Best iteration is:\n",
      "[99]\tvalid's auc: 0.791205\n",
      "Training until validation scores don't improve for 40 rounds\n",
      "[100]\tvalid's auc: 0.786704\n",
      "Did not meet early stopping. Best iteration is:\n",
      "[100]\tvalid's auc: 0.786704\n",
      "Training until validation scores don't improve for 40 rounds\n",
      "[100]\tvalid's auc: 0.790787\n",
      "Did not meet early stopping. Best iteration is:\n",
      "[96]\tvalid's auc: 0.790858\n"
     ]
    },
    {
     "name": "stderr",
     "output_type": "stream",
     "text": [
      "C:\\Users\\anka0\\anaconda3\\lib\\site-packages\\lightgbm\\callback.py:186: UserWarning: Early stopping is not available in dart mode\n",
      "  warnings.warn('Early stopping is not available in dart mode')\n"
     ]
    },
    {
     "name": "stdout",
     "output_type": "stream",
     "text": [
      "[100]\tvalid's auc: 0.797955\n"
     ]
    },
    {
     "name": "stderr",
     "output_type": "stream",
     "text": [
      "C:\\Users\\anka0\\anaconda3\\lib\\site-packages\\lightgbm\\callback.py:186: UserWarning: Early stopping is not available in dart mode\n",
      "  warnings.warn('Early stopping is not available in dart mode')\n"
     ]
    },
    {
     "name": "stdout",
     "output_type": "stream",
     "text": [
      "[100]\tvalid's auc: 0.796639\n"
     ]
    },
    {
     "name": "stderr",
     "output_type": "stream",
     "text": [
      "C:\\Users\\anka0\\anaconda3\\lib\\site-packages\\lightgbm\\callback.py:186: UserWarning: Early stopping is not available in dart mode\n",
      "  warnings.warn('Early stopping is not available in dart mode')\n"
     ]
    },
    {
     "name": "stdout",
     "output_type": "stream",
     "text": [
      "[100]\tvalid's auc: 0.796104\n"
     ]
    },
    {
     "name": "stderr",
     "output_type": "stream",
     "text": [
      "C:\\Users\\anka0\\anaconda3\\lib\\site-packages\\lightgbm\\callback.py:186: UserWarning: Early stopping is not available in dart mode\n",
      "  warnings.warn('Early stopping is not available in dart mode')\n"
     ]
    },
    {
     "name": "stdout",
     "output_type": "stream",
     "text": [
      "[100]\tvalid's auc: 0.795925\n"
     ]
    },
    {
     "name": "stderr",
     "output_type": "stream",
     "text": [
      "C:\\Users\\anka0\\anaconda3\\lib\\site-packages\\lightgbm\\callback.py:186: UserWarning: Early stopping is not available in dart mode\n",
      "  warnings.warn('Early stopping is not available in dart mode')\n"
     ]
    },
    {
     "name": "stdout",
     "output_type": "stream",
     "text": [
      "[100]\tvalid's auc: 0.79653\n"
     ]
    },
    {
     "name": "stderr",
     "output_type": "stream",
     "text": [
      "C:\\Users\\anka0\\anaconda3\\lib\\site-packages\\lightgbm\\callback.py:186: UserWarning: Early stopping is not available in dart mode\n",
      "  warnings.warn('Early stopping is not available in dart mode')\n"
     ]
    },
    {
     "name": "stdout",
     "output_type": "stream",
     "text": [
      "[100]\tvalid's auc: 0.795081\n",
      "Training until validation scores don't improve for 40 rounds\n",
      "Early stopping, best iteration is:\n",
      "[57]\tvalid's auc: 0.798145\n",
      "Training until validation scores don't improve for 40 rounds\n",
      "Early stopping, best iteration is:\n",
      "[11]\tvalid's auc: 0.796607\n",
      "Training until validation scores don't improve for 40 rounds\n",
      "Early stopping, best iteration is:\n",
      "[43]\tvalid's auc: 0.795274\n"
     ]
    },
    {
     "name": "stderr",
     "output_type": "stream",
     "text": [
      "C:\\Users\\anka0\\anaconda3\\lib\\site-packages\\lightgbm\\callback.py:186: UserWarning: Early stopping is not available in dart mode\n",
      "  warnings.warn('Early stopping is not available in dart mode')\n"
     ]
    },
    {
     "name": "stdout",
     "output_type": "stream",
     "text": [
      "[100]\tvalid's auc: 0.799049\n"
     ]
    },
    {
     "name": "stderr",
     "output_type": "stream",
     "text": [
      "C:\\Users\\anka0\\anaconda3\\lib\\site-packages\\lightgbm\\callback.py:186: UserWarning: Early stopping is not available in dart mode\n",
      "  warnings.warn('Early stopping is not available in dart mode')\n"
     ]
    },
    {
     "name": "stdout",
     "output_type": "stream",
     "text": [
      "[100]\tvalid's auc: 0.797171\n"
     ]
    },
    {
     "name": "stderr",
     "output_type": "stream",
     "text": [
      "C:\\Users\\anka0\\anaconda3\\lib\\site-packages\\lightgbm\\callback.py:186: UserWarning: Early stopping is not available in dart mode\n",
      "  warnings.warn('Early stopping is not available in dart mode')\n"
     ]
    },
    {
     "name": "stdout",
     "output_type": "stream",
     "text": [
      "[100]\tvalid's auc: 0.797102\n",
      "Training until validation scores don't improve for 40 rounds\n",
      "[100]\tvalid's auc: 0.798033\n",
      "Did not meet early stopping. Best iteration is:\n",
      "[86]\tvalid's auc: 0.798212\n",
      "Training until validation scores don't improve for 40 rounds\n",
      "[100]\tvalid's auc: 0.794925\n",
      "Did not meet early stopping. Best iteration is:\n",
      "[78]\tvalid's auc: 0.796089\n",
      "Training until validation scores don't improve for 40 rounds\n",
      "[100]\tvalid's auc: 0.795866\n",
      "Did not meet early stopping. Best iteration is:\n",
      "[86]\tvalid's auc: 0.796807\n",
      "Training until validation scores don't improve for 40 rounds\n",
      "[100]\tvalid's auc: 0.791691\n",
      "Did not meet early stopping. Best iteration is:\n",
      "[97]\tvalid's auc: 0.79202\n",
      "Training until validation scores don't improve for 40 rounds\n",
      "[100]\tvalid's auc: 0.787673\n",
      "Did not meet early stopping. Best iteration is:\n",
      "[93]\tvalid's auc: 0.78809\n",
      "Training until validation scores don't improve for 40 rounds\n",
      "[100]\tvalid's auc: 0.791447\n",
      "Did not meet early stopping. Best iteration is:\n",
      "[89]\tvalid's auc: 0.791554\n",
      "Training until validation scores don't improve for 40 rounds\n",
      "[100]\tvalid's auc: 0.79735\n",
      "Did not meet early stopping. Best iteration is:\n",
      "[100]\tvalid's auc: 0.79735\n",
      "Training until validation scores don't improve for 40 rounds\n",
      "[100]\tvalid's auc: 0.795307\n",
      "Did not meet early stopping. Best iteration is:\n",
      "[100]\tvalid's auc: 0.795307\n",
      "Training until validation scores don't improve for 40 rounds\n",
      "[100]\tvalid's auc: 0.795933\n",
      "Did not meet early stopping. Best iteration is:\n",
      "[100]\tvalid's auc: 0.795933\n"
     ]
    },
    {
     "name": "stderr",
     "output_type": "stream",
     "text": [
      "C:\\Users\\anka0\\anaconda3\\lib\\site-packages\\lightgbm\\callback.py:186: UserWarning: Early stopping is not available in dart mode\n",
      "  warnings.warn('Early stopping is not available in dart mode')\n"
     ]
    },
    {
     "name": "stdout",
     "output_type": "stream",
     "text": [
      "[100]\tvalid's auc: 0.791602\n"
     ]
    },
    {
     "name": "stderr",
     "output_type": "stream",
     "text": [
      "C:\\Users\\anka0\\anaconda3\\lib\\site-packages\\lightgbm\\callback.py:186: UserWarning: Early stopping is not available in dart mode\n",
      "  warnings.warn('Early stopping is not available in dart mode')\n"
     ]
    },
    {
     "name": "stdout",
     "output_type": "stream",
     "text": [
      "[100]\tvalid's auc: 0.787866\n"
     ]
    },
    {
     "name": "stderr",
     "output_type": "stream",
     "text": [
      "C:\\Users\\anka0\\anaconda3\\lib\\site-packages\\lightgbm\\callback.py:186: UserWarning: Early stopping is not available in dart mode\n",
      "  warnings.warn('Early stopping is not available in dart mode')\n"
     ]
    },
    {
     "name": "stdout",
     "output_type": "stream",
     "text": [
      "[100]\tvalid's auc: 0.792086\n",
      "Training until validation scores don't improve for 40 rounds\n",
      "Early stopping, best iteration is:\n",
      "[1]\tvalid's auc: 0.5\n",
      "Training until validation scores don't improve for 40 rounds\n",
      "Early stopping, best iteration is:\n",
      "[1]\tvalid's auc: 0.5\n",
      "Training until validation scores don't improve for 40 rounds\n",
      "Early stopping, best iteration is:\n",
      "[1]\tvalid's auc: 0.5\n",
      "Training until validation scores don't improve for 40 rounds\n",
      "Early stopping, best iteration is:\n",
      "[54]\tvalid's auc: 0.79822\n",
      "Training until validation scores don't improve for 40 rounds\n",
      "[100]\tvalid's auc: 0.797728\n",
      "Did not meet early stopping. Best iteration is:\n",
      "[68]\tvalid's auc: 0.798862\n",
      "Training until validation scores don't improve for 40 rounds\n",
      "[100]\tvalid's auc: 0.796451\n",
      "Did not meet early stopping. Best iteration is:\n",
      "[85]\tvalid's auc: 0.796909\n"
     ]
    },
    {
     "name": "stderr",
     "output_type": "stream",
     "text": [
      "C:\\Users\\anka0\\anaconda3\\lib\\site-packages\\lightgbm\\callback.py:186: UserWarning: Early stopping is not available in dart mode\n",
      "  warnings.warn('Early stopping is not available in dart mode')\n"
     ]
    },
    {
     "name": "stdout",
     "output_type": "stream",
     "text": [
      "[100]\tvalid's auc: 0.798961\n"
     ]
    },
    {
     "name": "stderr",
     "output_type": "stream",
     "text": [
      "C:\\Users\\anka0\\anaconda3\\lib\\site-packages\\lightgbm\\callback.py:186: UserWarning: Early stopping is not available in dart mode\n",
      "  warnings.warn('Early stopping is not available in dart mode')\n"
     ]
    },
    {
     "name": "stdout",
     "output_type": "stream",
     "text": [
      "[100]\tvalid's auc: 0.796589\n"
     ]
    },
    {
     "name": "stderr",
     "output_type": "stream",
     "text": [
      "C:\\Users\\anka0\\anaconda3\\lib\\site-packages\\lightgbm\\callback.py:186: UserWarning: Early stopping is not available in dart mode\n",
      "  warnings.warn('Early stopping is not available in dart mode')\n"
     ]
    },
    {
     "name": "stdout",
     "output_type": "stream",
     "text": [
      "[100]\tvalid's auc: 0.798427\n"
     ]
    },
    {
     "name": "stderr",
     "output_type": "stream",
     "text": [
      "C:\\Users\\anka0\\anaconda3\\lib\\site-packages\\lightgbm\\callback.py:186: UserWarning: Early stopping is not available in dart mode\n",
      "  warnings.warn('Early stopping is not available in dart mode')\n"
     ]
    },
    {
     "name": "stdout",
     "output_type": "stream",
     "text": [
      "[100]\tvalid's auc: 0.784287\n"
     ]
    },
    {
     "name": "stderr",
     "output_type": "stream",
     "text": [
      "C:\\Users\\anka0\\anaconda3\\lib\\site-packages\\lightgbm\\callback.py:186: UserWarning: Early stopping is not available in dart mode\n",
      "  warnings.warn('Early stopping is not available in dart mode')\n"
     ]
    },
    {
     "name": "stdout",
     "output_type": "stream",
     "text": [
      "[100]\tvalid's auc: 0.785204\n"
     ]
    },
    {
     "name": "stderr",
     "output_type": "stream",
     "text": [
      "C:\\Users\\anka0\\anaconda3\\lib\\site-packages\\lightgbm\\callback.py:186: UserWarning: Early stopping is not available in dart mode\n",
      "  warnings.warn('Early stopping is not available in dart mode')\n"
     ]
    },
    {
     "name": "stdout",
     "output_type": "stream",
     "text": [
      "[100]\tvalid's auc: 0.785757\n",
      "Training until validation scores don't improve for 40 rounds\n",
      "[100]\tvalid's auc: 0.782569\n",
      "Did not meet early stopping. Best iteration is:\n",
      "[94]\tvalid's auc: 0.782585\n",
      "Training until validation scores don't improve for 40 rounds\n",
      "[100]\tvalid's auc: 0.785215\n",
      "Did not meet early stopping. Best iteration is:\n",
      "[98]\tvalid's auc: 0.785215\n",
      "Training until validation scores don't improve for 40 rounds\n",
      "[100]\tvalid's auc: 0.784262\n",
      "Did not meet early stopping. Best iteration is:\n",
      "[73]\tvalid's auc: 0.7849\n"
     ]
    },
    {
     "name": "stderr",
     "output_type": "stream",
     "text": [
      "C:\\Users\\anka0\\anaconda3\\lib\\site-packages\\lightgbm\\callback.py:186: UserWarning: Early stopping is not available in dart mode\n",
      "  warnings.warn('Early stopping is not available in dart mode')\n"
     ]
    },
    {
     "name": "stdout",
     "output_type": "stream",
     "text": [
      "[100]\tvalid's auc: 0.793558\n"
     ]
    },
    {
     "name": "stderr",
     "output_type": "stream",
     "text": [
      "C:\\Users\\anka0\\anaconda3\\lib\\site-packages\\lightgbm\\callback.py:186: UserWarning: Early stopping is not available in dart mode\n",
      "  warnings.warn('Early stopping is not available in dart mode')\n"
     ]
    },
    {
     "name": "stdout",
     "output_type": "stream",
     "text": [
      "[100]\tvalid's auc: 0.791674\n"
     ]
    },
    {
     "name": "stderr",
     "output_type": "stream",
     "text": [
      "C:\\Users\\anka0\\anaconda3\\lib\\site-packages\\lightgbm\\callback.py:186: UserWarning: Early stopping is not available in dart mode\n",
      "  warnings.warn('Early stopping is not available in dart mode')\n"
     ]
    },
    {
     "name": "stdout",
     "output_type": "stream",
     "text": [
      "[100]\tvalid's auc: 0.792109\n",
      "[100]\tvalid's auc: 0.5\n"
     ]
    },
    {
     "name": "stderr",
     "output_type": "stream",
     "text": [
      "C:\\Users\\anka0\\anaconda3\\lib\\site-packages\\lightgbm\\callback.py:186: UserWarning: Early stopping is not available in dart mode\n",
      "  warnings.warn('Early stopping is not available in dart mode')\n",
      "C:\\Users\\anka0\\anaconda3\\lib\\site-packages\\lightgbm\\callback.py:186: UserWarning: Early stopping is not available in dart mode\n",
      "  warnings.warn('Early stopping is not available in dart mode')\n"
     ]
    },
    {
     "name": "stdout",
     "output_type": "stream",
     "text": [
      "[100]\tvalid's auc: 0.5\n",
      "[100]\tvalid's auc: 0.5\n"
     ]
    },
    {
     "name": "stderr",
     "output_type": "stream",
     "text": [
      "C:\\Users\\anka0\\anaconda3\\lib\\site-packages\\lightgbm\\callback.py:186: UserWarning: Early stopping is not available in dart mode\n",
      "  warnings.warn('Early stopping is not available in dart mode')\n",
      "C:\\Users\\anka0\\anaconda3\\lib\\site-packages\\lightgbm\\callback.py:186: UserWarning: Early stopping is not available in dart mode\n",
      "  warnings.warn('Early stopping is not available in dart mode')\n"
     ]
    },
    {
     "name": "stdout",
     "output_type": "stream",
     "text": [
      "[100]\tvalid's auc: 0.796978\n"
     ]
    },
    {
     "name": "stderr",
     "output_type": "stream",
     "text": [
      "C:\\Users\\anka0\\anaconda3\\lib\\site-packages\\lightgbm\\callback.py:186: UserWarning: Early stopping is not available in dart mode\n",
      "  warnings.warn('Early stopping is not available in dart mode')\n"
     ]
    },
    {
     "name": "stdout",
     "output_type": "stream",
     "text": [
      "[100]\tvalid's auc: 0.7954\n"
     ]
    },
    {
     "name": "stderr",
     "output_type": "stream",
     "text": [
      "C:\\Users\\anka0\\anaconda3\\lib\\site-packages\\lightgbm\\callback.py:186: UserWarning: Early stopping is not available in dart mode\n",
      "  warnings.warn('Early stopping is not available in dart mode')\n"
     ]
    },
    {
     "name": "stdout",
     "output_type": "stream",
     "text": [
      "[100]\tvalid's auc: 0.794191\n",
      "Training until validation scores don't improve for 40 rounds\n",
      "Early stopping, best iteration is:\n",
      "[1]\tvalid's auc: 0.5\n",
      "Training until validation scores don't improve for 40 rounds\n",
      "Early stopping, best iteration is:\n",
      "[1]\tvalid's auc: 0.5\n",
      "Training until validation scores don't improve for 40 rounds\n",
      "Early stopping, best iteration is:\n",
      "[1]\tvalid's auc: 0.5\n",
      "Training until validation scores don't improve for 40 rounds\n",
      "[100]\tvalid's auc: 0.788394\n",
      "Did not meet early stopping. Best iteration is:\n",
      "[100]\tvalid's auc: 0.788394\n",
      "Training until validation scores don't improve for 40 rounds\n",
      "[100]\tvalid's auc: 0.787828\n",
      "Did not meet early stopping. Best iteration is:\n",
      "[100]\tvalid's auc: 0.787828\n",
      "Training until validation scores don't improve for 40 rounds\n",
      "[100]\tvalid's auc: 0.788265\n",
      "Did not meet early stopping. Best iteration is:\n",
      "[99]\tvalid's auc: 0.788288\n",
      "Training until validation scores don't improve for 40 rounds\n",
      "[100]\tvalid's auc: 0.795614\n",
      "Did not meet early stopping. Best iteration is:\n",
      "[99]\tvalid's auc: 0.795798\n",
      "Training until validation scores don't improve for 40 rounds\n",
      "[100]\tvalid's auc: 0.79149\n",
      "Did not meet early stopping. Best iteration is:\n",
      "[85]\tvalid's auc: 0.792535\n",
      "Training until validation scores don't improve for 40 rounds\n",
      "[100]\tvalid's auc: 0.795056\n",
      "Did not meet early stopping. Best iteration is:\n",
      "[93]\tvalid's auc: 0.795301\n",
      "[100]\tvalid's auc: 0.5\n"
     ]
    },
    {
     "name": "stderr",
     "output_type": "stream",
     "text": [
      "C:\\Users\\anka0\\anaconda3\\lib\\site-packages\\lightgbm\\callback.py:186: UserWarning: Early stopping is not available in dart mode\n",
      "  warnings.warn('Early stopping is not available in dart mode')\n",
      "C:\\Users\\anka0\\anaconda3\\lib\\site-packages\\lightgbm\\callback.py:186: UserWarning: Early stopping is not available in dart mode\n",
      "  warnings.warn('Early stopping is not available in dart mode')\n"
     ]
    },
    {
     "name": "stdout",
     "output_type": "stream",
     "text": [
      "[100]\tvalid's auc: 0.5\n",
      "[100]\tvalid's auc: 0.5\n"
     ]
    },
    {
     "name": "stderr",
     "output_type": "stream",
     "text": [
      "C:\\Users\\anka0\\anaconda3\\lib\\site-packages\\lightgbm\\callback.py:186: UserWarning: Early stopping is not available in dart mode\n",
      "  warnings.warn('Early stopping is not available in dart mode')\n"
     ]
    },
    {
     "name": "stdout",
     "output_type": "stream",
     "text": [
      "Training until validation scores don't improve for 40 rounds\n",
      "[100]\tvalid's auc: 0.799984\n",
      "Did not meet early stopping. Best iteration is:\n",
      "[98]\tvalid's auc: 0.800154\n",
      "Training until validation scores don't improve for 40 rounds\n",
      "[100]\tvalid's auc: 0.797795\n",
      "Did not meet early stopping. Best iteration is:\n",
      "[89]\tvalid's auc: 0.797923\n",
      "Training until validation scores don't improve for 40 rounds\n",
      "[100]\tvalid's auc: 0.798241\n",
      "Did not meet early stopping. Best iteration is:\n",
      "[96]\tvalid's auc: 0.79829\n",
      "Training until validation scores don't improve for 40 rounds\n",
      "[100]\tvalid's auc: 0.798807\n",
      "Did not meet early stopping. Best iteration is:\n",
      "[98]\tvalid's auc: 0.798828\n",
      "Training until validation scores don't improve for 40 rounds\n",
      "[100]\tvalid's auc: 0.796583\n",
      "Did not meet early stopping. Best iteration is:\n",
      "[76]\tvalid's auc: 0.797347\n",
      "Training until validation scores don't improve for 40 rounds\n",
      "[100]\tvalid's auc: 0.796291\n",
      "Did not meet early stopping. Best iteration is:\n",
      "[85]\tvalid's auc: 0.796335\n",
      "Training until validation scores don't improve for 40 rounds\n",
      "[100]\tvalid's auc: 0.796171\n",
      "Did not meet early stopping. Best iteration is:\n",
      "[91]\tvalid's auc: 0.797197\n",
      "Training until validation scores don't improve for 40 rounds\n",
      "[100]\tvalid's auc: 0.792387\n",
      "Did not meet early stopping. Best iteration is:\n",
      "[87]\tvalid's auc: 0.79288\n",
      "Training until validation scores don't improve for 40 rounds\n",
      "[100]\tvalid's auc: 0.794343\n",
      "Did not meet early stopping. Best iteration is:\n",
      "[85]\tvalid's auc: 0.794936\n"
     ]
    },
    {
     "name": "stderr",
     "output_type": "stream",
     "text": [
      "C:\\Users\\anka0\\anaconda3\\lib\\site-packages\\lightgbm\\callback.py:186: UserWarning: Early stopping is not available in dart mode\n",
      "  warnings.warn('Early stopping is not available in dart mode')\n"
     ]
    },
    {
     "name": "stdout",
     "output_type": "stream",
     "text": [
      "[100]\tvalid's auc: 0.799453\n"
     ]
    },
    {
     "name": "stderr",
     "output_type": "stream",
     "text": [
      "C:\\Users\\anka0\\anaconda3\\lib\\site-packages\\lightgbm\\callback.py:186: UserWarning: Early stopping is not available in dart mode\n",
      "  warnings.warn('Early stopping is not available in dart mode')\n"
     ]
    },
    {
     "name": "stdout",
     "output_type": "stream",
     "text": [
      "[100]\tvalid's auc: 0.797533\n"
     ]
    },
    {
     "name": "stderr",
     "output_type": "stream",
     "text": [
      "C:\\Users\\anka0\\anaconda3\\lib\\site-packages\\lightgbm\\callback.py:186: UserWarning: Early stopping is not available in dart mode\n",
      "  warnings.warn('Early stopping is not available in dart mode')\n"
     ]
    },
    {
     "name": "stdout",
     "output_type": "stream",
     "text": [
      "[100]\tvalid's auc: 0.797846\n",
      "Training until validation scores don't improve for 40 rounds\n",
      "[100]\tvalid's auc: 0.789834\n",
      "Did not meet early stopping. Best iteration is:\n",
      "[94]\tvalid's auc: 0.790044\n",
      "Training until validation scores don't improve for 40 rounds\n",
      "[100]\tvalid's auc: 0.789621\n",
      "Did not meet early stopping. Best iteration is:\n",
      "[100]\tvalid's auc: 0.789621\n",
      "Training until validation scores don't improve for 40 rounds\n",
      "[100]\tvalid's auc: 0.788463\n",
      "Did not meet early stopping. Best iteration is:\n",
      "[77]\tvalid's auc: 0.788548\n",
      "Training until validation scores don't improve for 40 rounds\n",
      "Early stopping, best iteration is:\n",
      "[1]\tvalid's auc: 0.5\n",
      "Training until validation scores don't improve for 40 rounds\n",
      "Early stopping, best iteration is:\n",
      "[1]\tvalid's auc: 0.5\n",
      "Training until validation scores don't improve for 40 rounds\n",
      "Early stopping, best iteration is:\n",
      "[1]\tvalid's auc: 0.5\n",
      "Training until validation scores don't improve for 40 rounds\n",
      "Early stopping, best iteration is:\n",
      "[1]\tvalid's auc: 0.5\n",
      "Training until validation scores don't improve for 40 rounds\n",
      "Early stopping, best iteration is:\n",
      "[1]\tvalid's auc: 0.5\n",
      "Training until validation scores don't improve for 40 rounds\n",
      "Early stopping, best iteration is:\n",
      "[1]\tvalid's auc: 0.5\n",
      "Training until validation scores don't improve for 40 rounds\n",
      "Early stopping, best iteration is:\n",
      "[1]\tvalid's auc: 0.5\n",
      "Training until validation scores don't improve for 40 rounds\n",
      "Early stopping, best iteration is:\n",
      "[1]\tvalid's auc: 0.5\n",
      "Training until validation scores don't improve for 40 rounds\n",
      "Early stopping, best iteration is:\n",
      "[1]\tvalid's auc: 0.5\n"
     ]
    },
    {
     "name": "stderr",
     "output_type": "stream",
     "text": [
      "C:\\Users\\anka0\\anaconda3\\lib\\site-packages\\lightgbm\\callback.py:186: UserWarning: Early stopping is not available in dart mode\n",
      "  warnings.warn('Early stopping is not available in dart mode')\n"
     ]
    },
    {
     "name": "stdout",
     "output_type": "stream",
     "text": [
      "[100]\tvalid's auc: 0.797985\n"
     ]
    },
    {
     "name": "stderr",
     "output_type": "stream",
     "text": [
      "C:\\Users\\anka0\\anaconda3\\lib\\site-packages\\lightgbm\\callback.py:186: UserWarning: Early stopping is not available in dart mode\n",
      "  warnings.warn('Early stopping is not available in dart mode')\n"
     ]
    },
    {
     "name": "stdout",
     "output_type": "stream",
     "text": [
      "[100]\tvalid's auc: 0.796498\n"
     ]
    },
    {
     "name": "stderr",
     "output_type": "stream",
     "text": [
      "C:\\Users\\anka0\\anaconda3\\lib\\site-packages\\lightgbm\\callback.py:186: UserWarning: Early stopping is not available in dart mode\n",
      "  warnings.warn('Early stopping is not available in dart mode')\n"
     ]
    },
    {
     "name": "stdout",
     "output_type": "stream",
     "text": [
      "[100]\tvalid's auc: 0.795391\n",
      "Training until validation scores don't improve for 40 rounds\n",
      "[100]\tvalid's auc: 0.798559\n",
      "Did not meet early stopping. Best iteration is:\n",
      "[62]\tvalid's auc: 0.799598\n",
      "Training until validation scores don't improve for 40 rounds\n",
      "[100]\tvalid's auc: 0.797648\n",
      "Did not meet early stopping. Best iteration is:\n",
      "[71]\tvalid's auc: 0.797923\n",
      "Training until validation scores don't improve for 40 rounds\n",
      "[100]\tvalid's auc: 0.79751\n",
      "Did not meet early stopping. Best iteration is:\n",
      "[80]\tvalid's auc: 0.797962\n",
      "Training until validation scores don't improve for 40 rounds\n",
      "[100]\tvalid's auc: 0.793021\n",
      "Did not meet early stopping. Best iteration is:\n",
      "[76]\tvalid's auc: 0.794505\n",
      "Training until validation scores don't improve for 40 rounds\n",
      "Early stopping, best iteration is:\n",
      "[42]\tvalid's auc: 0.790965\n",
      "Training until validation scores don't improve for 40 rounds\n",
      "[100]\tvalid's auc: 0.793571\n",
      "Did not meet early stopping. Best iteration is:\n",
      "[89]\tvalid's auc: 0.793979\n",
      "Training until validation scores don't improve for 40 rounds\n",
      "[100]\tvalid's auc: 0.798039\n",
      "Did not meet early stopping. Best iteration is:\n",
      "[99]\tvalid's auc: 0.798169\n",
      "Training until validation scores don't improve for 40 rounds\n",
      "[100]\tvalid's auc: 0.795441\n",
      "Did not meet early stopping. Best iteration is:\n",
      "[90]\tvalid's auc: 0.795712\n",
      "Training until validation scores don't improve for 40 rounds\n",
      "[100]\tvalid's auc: 0.796378\n",
      "Did not meet early stopping. Best iteration is:\n",
      "[83]\tvalid's auc: 0.796542\n"
     ]
    },
    {
     "name": "stderr",
     "output_type": "stream",
     "text": [
      "[Parallel(n_jobs=1)]: Done 450 out of 450 | elapsed:  2.3min finished\n"
     ]
    },
    {
     "name": "stdout",
     "output_type": "stream",
     "text": [
      "Training until validation scores don't improve for 40 rounds\n",
      "[100]\tvalid's auc: 0.800586\n",
      "Did not meet early stopping. Best iteration is:\n",
      "[88]\tvalid's auc: 0.801275\n",
      "Najlepszy score: 0.8013314489805973 ,parametr: {'boosting_type': 'gbdt', 'colsample_bytree': 0.6724009419457484, 'min_child_samples': 171, 'min_child_weight': 1e-05, 'num_leaves': 11, 'reg_alpha': 0.1, 'reg_lambda': 10, 'subsample': 0.9535630009776306} \n"
     ]
    }
   ],
   "source": [
    "gs.fit(X_train, Y_train, **fit_params)\n",
    "print('Najlepszy score: {} ,parametr: {} '.format(gs.best_score_, gs.best_params_))"
   ]
  },
  {
   "cell_type": "code",
   "execution_count": 23,
   "metadata": {},
   "outputs": [],
   "source": [
    "best_parameters = {'boosting_type': 'gbdt','colsample_bytree': 0.6724009419457484, 'min_child_samples': 171, 'min_child_weight': 1e-05, 'num_leaves': 11, 'reg_alpha': 0.1, 'reg_lambda': 10, 'subsample': 0.9535630009776306}"
   ]
  },
  {
   "cell_type": "code",
   "execution_count": 24,
   "metadata": {},
   "outputs": [
    {
     "name": "stdout",
     "output_type": "stream",
     "text": [
      "Training until validation scores don't improve for 40 rounds\n",
      "[100]\tvalid's auc: 0.800586\n",
      "Did not meet early stopping. Best iteration is:\n",
      "[88]\tvalid's auc: 0.801275\n"
     ]
    },
    {
     "data": {
      "text/plain": [
       "LGBMClassifier(boosting_type='gbdt', class_weight=None,\n",
       "               colsample_bytree=0.6724009419457484, importance_type='split',\n",
       "               learning_rate=0.1, max_depth=-1, metric='None',\n",
       "               min_child_samples=171, min_child_weight=1e-05,\n",
       "               min_split_gain=0.0, n_estimators=100, n_jobs=4, num_leaves=11,\n",
       "               objective=None, random_state=3194, reg_alpha=0.1, reg_lambda=10,\n",
       "               silent=True, subsample=0.9535630009776306,\n",
       "               subsample_for_bin=200000, subsample_freq=0)"
      ]
     },
     "execution_count": 24,
     "metadata": {},
     "output_type": "execute_result"
    }
   ],
   "source": [
    "clf_final = lgb.LGBMClassifier(**clf.get_params())\n",
    "clf_final.set_params(**best_parameters)\n",
    "clf_final.fit(X_train, Y_train, **fit_params)"
   ]
  },
  {
   "cell_type": "code",
   "execution_count": 25,
   "metadata": {},
   "outputs": [
    {
     "data": {
      "text/plain": [
       "<matplotlib.axes._subplots.AxesSubplot at 0x2567f8fbf48>"
      ]
     },
     "execution_count": 25,
     "metadata": {},
     "output_type": "execute_result"
    },
    {
     "data": {
      "image/png": "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\n",
      "text/plain": [
       "<Figure size 576x720 with 1 Axes>"
      ]
     },
     "metadata": {
      "needs_background": "light"
     },
     "output_type": "display_data"
    }
   ],
   "source": [
    "# Ranking zmiennych\n",
    "feat_imp = pd.Series(clf_final.feature_importances_, index=X.columns)\n",
    "feat_imp.nlargest(20).plot(kind='barh', figsize=(8,10))"
   ]
  },
  {
   "cell_type": "code",
   "execution_count": 26,
   "metadata": {},
   "outputs": [
    {
     "data": {
      "image/png": "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\n",
      "text/plain": [
       "<Figure size 432x288 with 1 Axes>"
      ]
     },
     "metadata": {
      "needs_background": "light"
     },
     "output_type": "display_data"
    }
   ],
   "source": [
    "probabilities = clf_final.predict(X_test)\n",
    "fpr, tpr, _ = roc_curve(Y_test, probabilities)\n",
    "roc_auc = auc(fpr, tpr)\n",
    "\n",
    "plt.figure()\n",
    "lw = 2\n",
    "plt.plot(fpr, tpr, color='darkorange',\n",
    "         lw=lw, label='ROC curve (area = %0.4f)' % roc_auc)\n",
    "plt.plot([0, 1], [0, 1], color='navy', lw=lw, linestyle='--')\n",
    "plt.xlim([0.0, 1.0])\n",
    "plt.ylim([0.0, 1.05])\n",
    "plt.xlabel('False Positive Rate')\n",
    "plt.ylabel('True Positive Rate')\n",
    "plt.title('Krzywa ROC')\n",
    "plt.legend(loc=\"lower right\")\n",
    "plt.show()"
   ]
  }
 ],
 "metadata": {
  "kernelspec": {
   "display_name": "Python 3",
   "language": "python",
   "name": "python3"
  },
  "language_info": {
   "codemirror_mode": {
    "name": "ipython",
    "version": 3
   },
   "file_extension": ".py",
   "mimetype": "text/x-python",
   "name": "python",
   "nbconvert_exporter": "python",
   "pygments_lexer": "ipython3",
   "version": "3.7.6"
  }
 },
 "nbformat": 4,
 "nbformat_minor": 4
}
